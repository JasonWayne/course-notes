
{
 "cells": [
  
  {
   "cell_type": "markdown",
   "metadata": {},
   "source": [
    "##### 1"
   ]
  },
  {
   "cell_type": "markdown",
   "metadata": {},
   "source": [
    "![1](http://7xqhfk.com1.z0.glb.clouddn.com/zbml/lec05/0001.jpg)"
   ]
  },
	
  {
   "cell_type": "markdown",
   "metadata": {},
   "source": [
    "##### 2"
   ]
  },
  {
   "cell_type": "markdown",
   "metadata": {},
   "source": [
    "![2](http://7xqhfk.com1.z0.glb.clouddn.com/zbml/lec05/0002.jpg)"
   ]
  },
	
  {
   "cell_type": "markdown",
   "metadata": {},
   "source": [
    "##### 3"
   ]
  },
  {
   "cell_type": "markdown",
   "metadata": {},
   "source": [
    "![3](http://7xqhfk.com1.z0.glb.clouddn.com/zbml/lec05/0003.jpg)"
   ]
  },
	
  {
   "cell_type": "markdown",
   "metadata": {},
   "source": [
    "##### 4"
   ]
  },
  {
   "cell_type": "markdown",
   "metadata": {},
   "source": [
    "![4](http://7xqhfk.com1.z0.glb.clouddn.com/zbml/lec05/0004.jpg)"
   ]
  },
	
  {
   "cell_type": "markdown",
   "metadata": {},
   "source": [
    "##### 5"
   ]
  },
  {
   "cell_type": "markdown",
   "metadata": {},
   "source": [
    "![5](http://7xqhfk.com1.z0.glb.clouddn.com/zbml/lec05/0005.jpg)"
   ]
  },
	
  {
   "cell_type": "markdown",
   "metadata": {},
   "source": [
    "##### 6"
   ]
  },
  {
   "cell_type": "markdown",
   "metadata": {},
   "source": [
    "![6](http://7xqhfk.com1.z0.glb.clouddn.com/zbml/lec05/0006.jpg)"
   ]
  },
	
  {
   "cell_type": "markdown",
   "metadata": {},
   "source": [
    "##### 7"
   ]
  },
  {
   "cell_type": "markdown",
   "metadata": {},
   "source": [
    "![7](http://7xqhfk.com1.z0.glb.clouddn.com/zbml/lec05/0007.jpg)"
   ]
  },
	
  {
   "cell_type": "markdown",
   "metadata": {},
   "source": [
    "##### 8"
   ]
  },
  {
   "cell_type": "markdown",
   "metadata": {},
   "source": [
    "![8](http://7xqhfk.com1.z0.glb.clouddn.com/zbml/lec05/0008.jpg)"
   ]
  },
	
  {
   "cell_type": "markdown",
   "metadata": {},
   "source": [
    "##### 9"
   ]
  },
  {
   "cell_type": "markdown",
   "metadata": {},
   "source": [
    "![9](http://7xqhfk.com1.z0.glb.clouddn.com/zbml/lec05/0009.jpg)"
   ]
  },
	
  {
   "cell_type": "markdown",
   "metadata": {},
   "source": [
    "##### 10"
   ]
  },
  {
   "cell_type": "markdown",
   "metadata": {},
   "source": [
    "![10](http://7xqhfk.com1.z0.glb.clouddn.com/zbml/lec05/0010.jpg)"
   ]
  },
	
  {
   "cell_type": "markdown",
   "metadata": {},
   "source": [
    "##### 11"
   ]
  },
  {
   "cell_type": "markdown",
   "metadata": {},
   "source": [
    "![11](http://7xqhfk.com1.z0.glb.clouddn.com/zbml/lec05/0011.jpg)"
   ]
  },
	
  {
   "cell_type": "markdown",
   "metadata": {},
   "source": [
    "##### 12"
   ]
  },
  {
   "cell_type": "markdown",
   "metadata": {},
   "source": [
    "![12](http://7xqhfk.com1.z0.glb.clouddn.com/zbml/lec05/0012.jpg)"
   ]
  },
	
  {
   "cell_type": "markdown",
   "metadata": {},
   "source": [
    "##### 13"
   ]
  },
  {
   "cell_type": "markdown",
   "metadata": {},
   "source": [
    "![13](http://7xqhfk.com1.z0.glb.clouddn.com/zbml/lec05/0013.jpg)"
   ]
  },
	
  {
   "cell_type": "markdown",
   "metadata": {},
   "source": [
    "##### 14"
   ]
  },
  {
   "cell_type": "markdown",
   "metadata": {},
   "source": [
    "![14](http://7xqhfk.com1.z0.glb.clouddn.com/zbml/lec05/0014.jpg)"
   ]
  },
	
  {
   "cell_type": "markdown",
   "metadata": {},
   "source": [
    "##### 15"
   ]
  },
  {
   "cell_type": "markdown",
   "metadata": {},
   "source": [
    "![15](http://7xqhfk.com1.z0.glb.clouddn.com/zbml/lec05/0015.jpg)"
   ]
  },
	
  {
   "cell_type": "markdown",
   "metadata": {},
   "source": [
    "##### 16"
   ]
  },
  {
   "cell_type": "markdown",
   "metadata": {},
   "source": [
    "![16](http://7xqhfk.com1.z0.glb.clouddn.com/zbml/lec05/0016.jpg)"
   ]
  },
	
  {
   "cell_type": "markdown",
   "metadata": {},
   "source": [
    "##### 17"
   ]
  },
  {
   "cell_type": "markdown",
   "metadata": {},
   "source": [
    "![17](http://7xqhfk.com1.z0.glb.clouddn.com/zbml/lec05/0017.jpg)"
   ]
  },
	
  {
   "cell_type": "markdown",
   "metadata": {},
   "source": [
    "##### 18"
   ]
  },
  {
   "cell_type": "markdown",
   "metadata": {},
   "source": [
    "![18](http://7xqhfk.com1.z0.glb.clouddn.com/zbml/lec05/0018.jpg)"
   ]
  },
	
  {
   "cell_type": "markdown",
   "metadata": {},
   "source": [
    "##### 19"
   ]
  },
  {
   "cell_type": "markdown",
   "metadata": {},
   "source": [
    "![19](http://7xqhfk.com1.z0.glb.clouddn.com/zbml/lec05/0019.jpg)"
   ]
  },
	
  {
   "cell_type": "markdown",
   "metadata": {},
   "source": [
    "##### 20"
   ]
  },
  {
   "cell_type": "markdown",
   "metadata": {},
   "source": [
    "![20](http://7xqhfk.com1.z0.glb.clouddn.com/zbml/lec05/0020.jpg)"
   ]
  },
	
  {
   "cell_type": "markdown",
   "metadata": {},
   "source": [
    "##### 21"
   ]
  },
  {
   "cell_type": "markdown",
   "metadata": {},
   "source": [
    "![21](http://7xqhfk.com1.z0.glb.clouddn.com/zbml/lec05/0021.jpg)"
   ]
  },
	
  {
   "cell_type": "markdown",
   "metadata": {},
   "source": [
    "##### 22"
   ]
  },
  {
   "cell_type": "markdown",
   "metadata": {},
   "source": [
    "![22](http://7xqhfk.com1.z0.glb.clouddn.com/zbml/lec05/0022.jpg)"
   ]
  },
	
  {
   "cell_type": "markdown",
   "metadata": {},
   "source": [
    "##### 23"
   ]
  },
  {
   "cell_type": "markdown",
   "metadata": {},
   "source": [
    "![23](http://7xqhfk.com1.z0.glb.clouddn.com/zbml/lec05/0023.jpg)"
   ]
  },
	
  {
   "cell_type": "markdown",
   "metadata": {},
   "source": [
    "##### 24"
   ]
  },
  {
   "cell_type": "markdown",
   "metadata": {},
   "source": [
    "![24](http://7xqhfk.com1.z0.glb.clouddn.com/zbml/lec05/0024.jpg)"
   ]
  },
	
  {
   "cell_type": "markdown",
   "metadata": {},
   "source": [
    "##### 25"
   ]
  },
  {
   "cell_type": "markdown",
   "metadata": {},
   "source": [
    "![25](http://7xqhfk.com1.z0.glb.clouddn.com/zbml/lec05/0025.jpg)"
   ]
  },
	
  {
   "cell_type": "markdown",
   "metadata": {},
   "source": [
    "##### 26"
   ]
  },
  {
   "cell_type": "markdown",
   "metadata": {},
   "source": [
    "![26](http://7xqhfk.com1.z0.glb.clouddn.com/zbml/lec05/0026.jpg)"
   ]
  },
	
  {
   "cell_type": "markdown",
   "metadata": {},
   "source": [
    "##### 27"
   ]
  },
  {
   "cell_type": "markdown",
   "metadata": {},
   "source": [
    "![27](http://7xqhfk.com1.z0.glb.clouddn.com/zbml/lec05/0027.jpg)"
   ]
  },
	
  {
   "cell_type": "markdown",
   "metadata": {},
   "source": [
    "##### 28"
   ]
  },
  {
   "cell_type": "markdown",
   "metadata": {},
   "source": [
    "![28](http://7xqhfk.com1.z0.glb.clouddn.com/zbml/lec05/0028.jpg)"
   ]
  },
	
  {
   "cell_type": "markdown",
   "metadata": {},
   "source": [
    "##### 29"
   ]
  },
  {
   "cell_type": "markdown",
   "metadata": {},
   "source": [
    "![29](http://7xqhfk.com1.z0.glb.clouddn.com/zbml/lec05/0029.jpg)"
   ]
  },
	
  {
   "cell_type": "markdown",
   "metadata": {},
   "source": [
    "##### 30"
   ]
  },
  {
   "cell_type": "markdown",
   "metadata": {},
   "source": [
    "![30](http://7xqhfk.com1.z0.glb.clouddn.com/zbml/lec05/0030.jpg)"
   ]
  },
	
  {
   "cell_type": "markdown",
   "metadata": {},
   "source": [
    "##### 31"
   ]
  },
  {
   "cell_type": "markdown",
   "metadata": {},
   "source": [
    "![31](http://7xqhfk.com1.z0.glb.clouddn.com/zbml/lec05/0031.jpg)"
   ]
  },
	
  {
   "cell_type": "markdown",
   "metadata": {},
   "source": [
    "##### 32"
   ]
  },
  {
   "cell_type": "markdown",
   "metadata": {},
   "source": [
    "![32](http://7xqhfk.com1.z0.glb.clouddn.com/zbml/lec05/0032.jpg)"
   ]
  },
	
  {
   "cell_type": "markdown",
   "metadata": {},
   "source": [
    "##### 33"
   ]
  },
  {
   "cell_type": "markdown",
   "metadata": {},
   "source": [
    "![33](http://7xqhfk.com1.z0.glb.clouddn.com/zbml/lec05/0033.jpg)"
   ]
  },
	
  {
   "cell_type": "markdown",
   "metadata": {},
   "source": [
    "##### 34"
   ]
  },
  {
   "cell_type": "markdown",
   "metadata": {},
   "source": [
    "![34](http://7xqhfk.com1.z0.glb.clouddn.com/zbml/lec05/0034.jpg)"
   ]
  },
	
  {
   "cell_type": "markdown",
   "metadata": {},
   "source": [
    "##### 35"
   ]
  },
  {
   "cell_type": "markdown",
   "metadata": {},
   "source": [
    "![35](http://7xqhfk.com1.z0.glb.clouddn.com/zbml/lec05/0035.jpg)"
   ]
  },
	
  {
   "cell_type": "markdown",
   "metadata": {},
   "source": [
    "##### 36"
   ]
  },
  {
   "cell_type": "markdown",
   "metadata": {},
   "source": [
    "![36](http://7xqhfk.com1.z0.glb.clouddn.com/zbml/lec05/0036.jpg)"
   ]
  },
	
  {
   "cell_type": "markdown",
   "metadata": {},
   "source": [
    "##### 37"
   ]
  },
  {
   "cell_type": "markdown",
   "metadata": {},
   "source": [
    "![37](http://7xqhfk.com1.z0.glb.clouddn.com/zbml/lec05/0037.jpg)"
   ]
  },
	
  {
   "cell_type": "markdown",
   "metadata": {},
   "source": [
    "##### 38"
   ]
  },
  {
   "cell_type": "markdown",
   "metadata": {},
   "source": [
    "![38](http://7xqhfk.com1.z0.glb.clouddn.com/zbml/lec05/0038.jpg)"
   ]
  },
	
  {
   "cell_type": "markdown",
   "metadata": {},
   "source": [
    "##### 39"
   ]
  },
  {
   "cell_type": "markdown",
   "metadata": {},
   "source": [
    "![39](http://7xqhfk.com1.z0.glb.clouddn.com/zbml/lec05/0039.jpg)"
   ]
  },
	
  {
   "cell_type": "markdown",
   "metadata": {},
   "source": [
    "##### 40"
   ]
  },
  {
   "cell_type": "markdown",
   "metadata": {},
   "source": [
    "![40](http://7xqhfk.com1.z0.glb.clouddn.com/zbml/lec05/0040.jpg)"
   ]
  },
	
  {
   "cell_type": "markdown",
   "metadata": {},
   "source": [
    "##### 41"
   ]
  },
  {
   "cell_type": "markdown",
   "metadata": {},
   "source": [
    "![41](http://7xqhfk.com1.z0.glb.clouddn.com/zbml/lec05/0041.jpg)"
   ]
  },
	
  {
   "cell_type": "markdown",
   "metadata": {},
   "source": [
    "##### 42"
   ]
  },
  {
   "cell_type": "markdown",
   "metadata": {},
   "source": [
    "![42](http://7xqhfk.com1.z0.glb.clouddn.com/zbml/lec05/0042.jpg)"
   ]
  },
	
  {
   "cell_type": "markdown",
   "metadata": {},
   "source": [
    "##### 43"
   ]
  },
  {
   "cell_type": "markdown",
   "metadata": {},
   "source": [
    "![43](http://7xqhfk.com1.z0.glb.clouddn.com/zbml/lec05/0043.jpg)"
   ]
  },
	
  {
   "cell_type": "markdown",
   "metadata": {},
   "source": [
    "##### 44"
   ]
  },
  {
   "cell_type": "markdown",
   "metadata": {},
   "source": [
    "![44](http://7xqhfk.com1.z0.glb.clouddn.com/zbml/lec05/0044.jpg)"
   ]
  },
	
  {
   "cell_type": "markdown",
   "metadata": {},
   "source": [
    "##### 45"
   ]
  },
  {
   "cell_type": "markdown",
   "metadata": {},
   "source": [
    "![45](http://7xqhfk.com1.z0.glb.clouddn.com/zbml/lec05/0045.jpg)"
   ]
  },
	
  {
   "cell_type": "markdown",
   "metadata": {},
   "source": [
    "##### 46"
   ]
  },
  {
   "cell_type": "markdown",
   "metadata": {},
   "source": [
    "![46](http://7xqhfk.com1.z0.glb.clouddn.com/zbml/lec05/0046.jpg)"
   ]
  },
	
  {
   "cell_type": "markdown",
   "metadata": {},
   "source": [
    "##### 47"
   ]
  },
  {
   "cell_type": "markdown",
   "metadata": {},
   "source": [
    "![47](http://7xqhfk.com1.z0.glb.clouddn.com/zbml/lec05/0047.jpg)"
   ]
  },
	
  {
   "cell_type": "markdown",
   "metadata": {},
   "source": [
    "##### 48"
   ]
  },
  {
   "cell_type": "markdown",
   "metadata": {},
   "source": [
    "![48](http://7xqhfk.com1.z0.glb.clouddn.com/zbml/lec05/0048.jpg)"
   ]
  },
	
  {
   "cell_type": "markdown",
   "metadata": {},
   "source": [
    "##### 49"
   ]
  },
  {
   "cell_type": "markdown",
   "metadata": {},
   "source": [
    "![49](http://7xqhfk.com1.z0.glb.clouddn.com/zbml/lec05/0049.jpg)"
   ]
  },
	
  {
   "cell_type": "markdown",
   "metadata": {},
   "source": [
    "##### 50"
   ]
  },
  {
   "cell_type": "markdown",
   "metadata": {},
   "source": [
    "![50](http://7xqhfk.com1.z0.glb.clouddn.com/zbml/lec05/0050.jpg)"
   ]
  },
	
  {
   "cell_type": "markdown",
   "metadata": {},
   "source": [
    "##### 51"
   ]
  },
  {
   "cell_type": "markdown",
   "metadata": {},
   "source": [
    "![51](http://7xqhfk.com1.z0.glb.clouddn.com/zbml/lec05/0051.jpg)"
   ]
  },
	
  {
   "cell_type": "markdown",
   "metadata": {},
   "source": [
    "##### 52"
   ]
  },
  {
   "cell_type": "markdown",
   "metadata": {},
   "source": [
    "![52](http://7xqhfk.com1.z0.glb.clouddn.com/zbml/lec05/0052.jpg)"
   ]
  },
	
  {
   "cell_type": "markdown",
   "metadata": {},
   "source": [
    "##### 53"
   ]
  },
  {
   "cell_type": "markdown",
   "metadata": {},
   "source": [
    "![53](http://7xqhfk.com1.z0.glb.clouddn.com/zbml/lec05/0053.jpg)"
   ]
  },
	
  {
   "cell_type": "markdown",
   "metadata": {},
   "source": [
    "##### 54"
   ]
  },
  {
   "cell_type": "markdown",
   "metadata": {},
   "source": [
    "![54](http://7xqhfk.com1.z0.glb.clouddn.com/zbml/lec05/0054.jpg)"
   ]
  },
	
  {
   "cell_type": "markdown",
   "metadata": {},
   "source": [
    "##### 55"
   ]
  },
  {
   "cell_type": "markdown",
   "metadata": {},
   "source": [
    "![55](http://7xqhfk.com1.z0.glb.clouddn.com/zbml/lec05/0055.jpg)"
   ]
  },
	
  {
   "cell_type": "markdown",
   "metadata": {},
   "source": [
    "##### 56"
   ]
  },
  {
   "cell_type": "markdown",
   "metadata": {},
   "source": [
    "![56](http://7xqhfk.com1.z0.glb.clouddn.com/zbml/lec05/0056.jpg)"
   ]
  },
	
  {
   "cell_type": "code",
   "execution_count": null,
   "metadata": {
    "collapsed": true
   },
   "outputs": [],
   "source": []
  }
 ],
 "metadata": {
  "kernelspec": {
   "display_name": "Python 2",
   "language": "python",
   "name": "python2"
  },
  "language_info": {
   "codemirror_mode": {
    "name": "ipython",
    "version": 2
   },
   "file_extension": ".py",
   "mimetype": "text/x-python",
   "name": "python",
   "nbconvert_exporter": "python",
   "pygments_lexer": "ipython2",
   "version": "2.7.10"
  }
 },
 "nbformat": 4,
 "nbformat_minor": 0
}

	