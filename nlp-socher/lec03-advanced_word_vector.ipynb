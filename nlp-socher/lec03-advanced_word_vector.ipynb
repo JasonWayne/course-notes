{
 "cells": [
  {
   "cell_type": "markdown",
   "metadata": {},
   "source": [
    "##### 1"
   ]
  },
  {
   "cell_type": "markdown",
   "metadata": {},
   "source": [
    "![1](http://7xqhfk.com1.z0.glb.clouddn.com/dlfornlp/lec03/0001.jpg)"
   ]
  },
  {
   "cell_type": "markdown",
   "metadata": {},
   "source": [
    "##### 2"
   ]
  },
  {
   "cell_type": "markdown",
   "metadata": {},
   "source": [
    "![2](http://7xqhfk.com1.z0.glb.clouddn.com/dlfornlp/lec03/0002.jpg)"
   ]
  },
  {
   "cell_type": "markdown",
   "metadata": {},
   "source": [
    "上节课只是计算了$v_c$如何更新，事实上，对于每一个窗口，会同时更新$v_c$和$v_o$，因此，需要用同样的方式，计算$v_o$的梯度。就像这页里写的，需要计算$v_{like}$和$v'_I$、$v'_{learning}$的梯度。"
   ]
  },
  {
   "cell_type": "markdown",
   "metadata": {},
   "source": [
    "##### 3"
   ]
  },
  {
   "cell_type": "markdown",
   "metadata": {},
   "source": [
    "![3](http://7xqhfk.com1.z0.glb.clouddn.com/dlfornlp/lec03/0003.jpg)"
   ]
  },
  {
   "cell_type": "markdown",
   "metadata": {},
   "source": [
    "##### 4"
   ]
  },
  {
   "cell_type": "markdown",
   "metadata": {},
   "source": [
    "![4](http://7xqhfk.com1.z0.glb.clouddn.com/dlfornlp/lec03/0004.jpg)"
   ]
  },
  {
   "cell_type": "markdown",
   "metadata": {},
   "source": [
    "不是应该maximize $j(\\theta)$么？"
   ]
  },
  {
   "cell_type": "markdown",
   "metadata": {},
   "source": [
    "##### 5"
   ]
  },
  {
   "cell_type": "markdown",
   "metadata": {},
   "source": [
    "![5](http://7xqhfk.com1.z0.glb.clouddn.com/dlfornlp/lec03/0005.jpg)"
   ]
  },
  {
   "cell_type": "markdown",
   "metadata": {},
   "source": [
    "##### 6"
   ]
  },
  {
   "cell_type": "markdown",
   "metadata": {},
   "source": [
    "![6](http://7xqhfk.com1.z0.glb.clouddn.com/dlfornlp/lec03/0006.jpg)"
   ]
  },
  {
   "cell_type": "markdown",
   "metadata": {},
   "source": [
    "##### 7"
   ]
  },
  {
   "cell_type": "markdown",
   "metadata": {},
   "source": [
    "![7](http://7xqhfk.com1.z0.glb.clouddn.com/dlfornlp/lec03/0007.jpg)"
   ]
  },
  {
   "cell_type": "markdown",
   "metadata": {},
   "source": [
    "40 billion"
   ]
  },
  {
   "cell_type": "markdown",
   "metadata": {},
   "source": [
    "##### 8"
   ]
  },
  {
   "cell_type": "markdown",
   "metadata": {},
   "source": [
    "![8](http://7xqhfk.com1.z0.glb.clouddn.com/dlfornlp/lec03/0008.jpg)"
   ]
  },
  {
   "cell_type": "markdown",
   "metadata": {},
   "source": [
    "d是vector length，V是Vocabulary size"
   ]
  },
  {
   "cell_type": "markdown",
   "metadata": {},
   "source": [
    "##### 9"
   ]
  },
  {
   "cell_type": "markdown",
   "metadata": {},
   "source": [
    "![9](http://7xqhfk.com1.z0.glb.clouddn.com/dlfornlp/lec03/0009.jpg)"
   ]
  },
  {
   "cell_type": "markdown",
   "metadata": {},
   "source": [
    "##### 10"
   ]
  },
  {
   "cell_type": "markdown",
   "metadata": {},
   "source": [
    "![10](http://7xqhfk.com1.z0.glb.clouddn.com/dlfornlp/lec03/0010.jpg)"
   ]
  },
  {
   "cell_type": "markdown",
   "metadata": {},
   "source": [
    "One of the goals of this class for me is to allow you to eventually go out to the real world and read papers people from various origanizations publish, read those by yourself and being able to take those ideas and implement them. 这一点，很关键。课上会讲很多工程和实现上的trick，都是文献中会略过的内容。"
   ]
  },
  {
   "cell_type": "markdown",
   "metadata": {},
   "source": [
    "##### 11"
   ]
  },
  {
   "cell_type": "markdown",
   "metadata": {},
   "source": [
    "![11](http://7xqhfk.com1.z0.glb.clouddn.com/dlfornlp/lec03/0011.jpg)"
   ]
  },
  {
   "cell_type": "markdown",
   "metadata": {},
   "source": [
    "以$P_n(w)$这个分布进行采样。"
   ]
  },
  {
   "cell_type": "markdown",
   "metadata": {},
   "source": [
    "##### 12"
   ]
  },
  {
   "cell_type": "markdown",
   "metadata": {},
   "source": [
    "![12](http://7xqhfk.com1.z0.glb.clouddn.com/dlfornlp/lec03/0012.jpg)"
   ]
  },
  {
   "cell_type": "markdown",
   "metadata": {},
   "source": [
    "##### 13"
   ]
  },
  {
   "cell_type": "markdown",
   "metadata": {},
   "source": [
    "![13](http://7xqhfk.com1.z0.glb.clouddn.com/dlfornlp/lec03/0013.jpg)"
   ]
  },
  {
   "cell_type": "markdown",
   "metadata": {},
   "source": [
    "##### 14"
   ]
  },
  {
   "cell_type": "markdown",
   "metadata": {},
   "source": [
    "![14](http://7xqhfk.com1.z0.glb.clouddn.com/dlfornlp/lec03/0014.jpg)"
   ]
  },
  {
   "cell_type": "markdown",
   "metadata": {},
   "source": [
    "##### 15"
   ]
  },
  {
   "cell_type": "markdown",
   "metadata": {},
   "source": [
    "![15](http://7xqhfk.com1.z0.glb.clouddn.com/dlfornlp/lec03/0015.jpg)"
   ]
  },
  {
   "cell_type": "markdown",
   "metadata": {},
   "source": [
    "##### 16"
   ]
  },
  {
   "cell_type": "markdown",
   "metadata": {},
   "source": [
    "![16](http://7xqhfk.com1.z0.glb.clouddn.com/dlfornlp/lec03/0016.jpg)"
   ]
  },
  {
   "cell_type": "markdown",
   "metadata": {},
   "source": [
    "##### 17"
   ]
  },
  {
   "cell_type": "markdown",
   "metadata": {},
   "source": [
    "![17](http://7xqhfk.com1.z0.glb.clouddn.com/dlfornlp/lec03/0017.jpg)"
   ]
  },
  {
   "cell_type": "markdown",
   "metadata": {},
   "source": [
    "##### 18"
   ]
  },
  {
   "cell_type": "markdown",
   "metadata": {},
   "source": [
    "![18](http://7xqhfk.com1.z0.glb.clouddn.com/dlfornlp/lec03/0018.jpg)"
   ]
  },
  {
   "cell_type": "markdown",
   "metadata": {},
   "source": [
    "##### 19"
   ]
  },
  {
   "cell_type": "markdown",
   "metadata": {},
   "source": [
    "![19](http://7xqhfk.com1.z0.glb.clouddn.com/dlfornlp/lec03/0019.jpg)"
   ]
  },
  {
   "cell_type": "markdown",
   "metadata": {},
   "source": [
    "##### 20"
   ]
  },
  {
   "cell_type": "markdown",
   "metadata": {},
   "source": [
    "![20](http://7xqhfk.com1.z0.glb.clouddn.com/dlfornlp/lec03/0020.jpg)"
   ]
  },
  {
   "cell_type": "markdown",
   "metadata": {},
   "source": [
    "##### 21"
   ]
  },
  {
   "cell_type": "markdown",
   "metadata": {},
   "source": [
    "![21](http://7xqhfk.com1.z0.glb.clouddn.com/dlfornlp/lec03/0021.jpg)"
   ]
  },
  {
   "cell_type": "markdown",
   "metadata": {},
   "source": [
    "##### 22"
   ]
  },
  {
   "cell_type": "markdown",
   "metadata": {},
   "source": [
    "![22](http://7xqhfk.com1.z0.glb.clouddn.com/dlfornlp/lec03/0022.jpg)"
   ]
  },
  {
   "cell_type": "markdown",
   "metadata": {},
   "source": [
    "可以发现，随着window size增加，sementic score增加了，syntactic score却减少了。"
   ]
  },
  {
   "cell_type": "markdown",
   "metadata": {},
   "source": [
    "##### 23"
   ]
  },
  {
   "cell_type": "markdown",
   "metadata": {},
   "source": [
    "![23](http://7xqhfk.com1.z0.glb.clouddn.com/dlfornlp/lec03/0023.jpg)"
   ]
  },
  {
   "cell_type": "markdown",
   "metadata": {},
   "source": [
    "##### 24"
   ]
  },
  {
   "cell_type": "markdown",
   "metadata": {},
   "source": [
    "![24](http://7xqhfk.com1.z0.glb.clouddn.com/dlfornlp/lec03/0024.jpg)"
   ]
  },
  {
   "cell_type": "markdown",
   "metadata": {},
   "source": [
    "##### 25"
   ]
  },
  {
   "cell_type": "markdown",
   "metadata": {},
   "source": [
    "![25](http://7xqhfk.com1.z0.glb.clouddn.com/dlfornlp/lec03/0025.jpg)"
   ]
  },
  {
   "cell_type": "markdown",
   "metadata": {},
   "source": [
    "##### 26"
   ]
  },
  {
   "cell_type": "markdown",
   "metadata": {},
   "source": [
    "![26](http://7xqhfk.com1.z0.glb.clouddn.com/dlfornlp/lec03/0026.jpg)"
   ]
  },
  {
   "cell_type": "markdown",
   "metadata": {},
   "source": [
    "##### 27"
   ]
  },
  {
   "cell_type": "markdown",
   "metadata": {},
   "source": [
    "![27](http://7xqhfk.com1.z0.glb.clouddn.com/dlfornlp/lec03/0027.jpg)"
   ]
  },
  {
   "cell_type": "markdown",
   "metadata": {},
   "source": [
    "取词前后的窗口，整个窗口（包括当前词）拼成一个长的向量，然后做聚类，聚类的结果就是义项的数目。课上提到的具体方法是用Kmeans，将类数目设置成5-10，实际是不是用DBSCAN更好。"
   ]
  },
  {
   "cell_type": "markdown",
   "metadata": {},
   "source": [
    "##### 28"
   ]
  },
  {
   "cell_type": "markdown",
   "metadata": {},
   "source": [
    "![28](http://7xqhfk.com1.z0.glb.clouddn.com/dlfornlp/lec03/0028.jpg)"
   ]
  },
  {
   "cell_type": "markdown",
   "metadata": {},
   "source": [
    "##### 29"
   ]
  },
  {
   "cell_type": "markdown",
   "metadata": {},
   "source": [
    "![29](http://7xqhfk.com1.z0.glb.clouddn.com/dlfornlp/lec03/0029.jpg)"
   ]
  },
  {
   "cell_type": "markdown",
   "metadata": {},
   "source": [
    "##### 30"
   ]
  },
  {
   "cell_type": "markdown",
   "metadata": {},
   "source": [
    "![30](http://7xqhfk.com1.z0.glb.clouddn.com/dlfornlp/lec03/0030.jpg)"
   ]
  },
  {
   "cell_type": "markdown",
   "metadata": {},
   "source": [
    "##### 31"
   ]
  },
  {
   "cell_type": "markdown",
   "metadata": {},
   "source": [
    "![31](http://7xqhfk.com1.z0.glb.clouddn.com/dlfornlp/lec03/0031.jpg)"
   ]
  },
  {
   "cell_type": "markdown",
   "metadata": {},
   "source": [
    "从这一页起就讲分类问题了。"
   ]
  },
  {
   "cell_type": "markdown",
   "metadata": {},
   "source": [
    "##### 32"
   ]
  },
  {
   "cell_type": "markdown",
   "metadata": {},
   "source": [
    "![32](http://7xqhfk.com1.z0.glb.clouddn.com/dlfornlp/lec03/0032.jpg)"
   ]
  },
  {
   "cell_type": "markdown",
   "metadata": {},
   "source": [
    "##### 33"
   ]
  },
  {
   "cell_type": "markdown",
   "metadata": {},
   "source": [
    "![33](http://7xqhfk.com1.z0.glb.clouddn.com/dlfornlp/lec03/0033.jpg)"
   ]
  },
  {
   "cell_type": "markdown",
   "metadata": {},
   "source": [
    "##### 34"
   ]
  },
  {
   "cell_type": "markdown",
   "metadata": {},
   "source": [
    "![34](http://7xqhfk.com1.z0.glb.clouddn.com/dlfornlp/lec03/0034.jpg)"
   ]
  },
  {
   "cell_type": "markdown",
   "metadata": {},
   "source": [
    "##### 35"
   ]
  },
  {
   "cell_type": "markdown",
   "metadata": {},
   "source": [
    "![35](http://7xqhfk.com1.z0.glb.clouddn.com/dlfornlp/lec03/0035.jpg)"
   ]
  },
  {
   "cell_type": "markdown",
   "metadata": {},
   "source": [
    "##### 36"
   ]
  },
  {
   "cell_type": "markdown",
   "metadata": {},
   "source": [
    "![36](http://7xqhfk.com1.z0.glb.clouddn.com/dlfornlp/lec03/0036.jpg)"
   ]
  },
  {
   "cell_type": "markdown",
   "metadata": {},
   "source": [
    "这里有个typo，应该是\"Because H(p) is zero\""
   ]
  },
  {
   "cell_type": "markdown",
   "metadata": {},
   "source": [
    "##### 37"
   ]
  },
  {
   "cell_type": "markdown",
   "metadata": {},
   "source": [
    "![37](http://7xqhfk.com1.z0.glb.clouddn.com/dlfornlp/lec03/0037.jpg)"
   ]
  },
  {
   "cell_type": "markdown",
   "metadata": {},
   "source": [
    "##### 38"
   ]
  },
  {
   "cell_type": "markdown",
   "metadata": {},
   "source": [
    "![38](http://7xqhfk.com1.z0.glb.clouddn.com/dlfornlp/lec03/0038.jpg)"
   ]
  },
  {
   "cell_type": "markdown",
   "metadata": {},
   "source": [
    "这张图是对word vector利用情感标签进行重新训练的结果。"
   ]
  },
  {
   "cell_type": "markdown",
   "metadata": {},
   "source": [
    "##### 39"
   ]
  },
  {
   "cell_type": "markdown",
   "metadata": {},
   "source": [
    "![39](http://7xqhfk.com1.z0.glb.clouddn.com/dlfornlp/lec03/0039.jpg)"
   ]
  },
  {
   "cell_type": "markdown",
   "metadata": {},
   "source": [
    "##### 40"
   ]
  },
  {
   "cell_type": "markdown",
   "metadata": {},
   "source": [
    "![40](http://7xqhfk.com1.z0.glb.clouddn.com/dlfornlp/lec03/0040.jpg)"
   ]
  },
  {
   "cell_type": "code",
   "execution_count": null,
   "metadata": {
    "collapsed": true
   },
   "outputs": [],
   "source": []
  }
 ],
 "metadata": {
  "kernelspec": {
   "display_name": "Python 2",
   "language": "python",
   "name": "python2"
  },
  "language_info": {
   "codemirror_mode": {
    "name": "ipython",
    "version": 2
   },
   "file_extension": ".py",
   "mimetype": "text/x-python",
   "name": "python",
   "nbconvert_exporter": "python",
   "pygments_lexer": "ipython2",
   "version": "2.7.10"
  }
 },
 "nbformat": 4,
 "nbformat_minor": 0
}
