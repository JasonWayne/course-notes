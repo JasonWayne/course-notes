{
 "cells": [
  {
   "cell_type": "markdown",
   "metadata": {},
   "source": [
    "##### 1"
   ]
  },
  {
   "cell_type": "markdown",
   "metadata": {},
   "source": [
    "![1](http://7xqhfk.com1.z0.glb.clouddn.com/ml-zb/lec11/0001.jpg)"
   ]
  },
  {
   "cell_type": "markdown",
   "metadata": {},
   "source": [
    "##### 2"
   ]
  },
  {
   "cell_type": "markdown",
   "metadata": {},
   "source": [
    "![2](http://7xqhfk.com1.z0.glb.clouddn.com/ml-zb/lec11/0002.jpg)"
   ]
  },
  {
   "cell_type": "markdown",
   "metadata": {},
   "source": [
    "##### 3"
   ]
  },
  {
   "cell_type": "markdown",
   "metadata": {},
   "source": [
    "![3](http://7xqhfk.com1.z0.glb.clouddn.com/ml-zb/lec11/0003.jpg)"
   ]
  },
  {
   "cell_type": "markdown",
   "metadata": {},
   "source": [
    "##### 4"
   ]
  },
  {
   "cell_type": "markdown",
   "metadata": {},
   "source": [
    "![4](http://7xqhfk.com1.z0.glb.clouddn.com/ml-zb/lec11/0004.jpg)"
   ]
  },
  {
   "cell_type": "markdown",
   "metadata": {},
   "source": [
    "##### 5"
   ]
  },
  {
   "cell_type": "markdown",
   "metadata": {},
   "source": [
    "![5](http://7xqhfk.com1.z0.glb.clouddn.com/ml-zb/lec11/0005.jpg)"
   ]
  },
  {
   "cell_type": "markdown",
   "metadata": {},
   "source": [
    "2, 4, 5表示三张图中树的层数"
   ]
  },
  {
   "cell_type": "markdown",
   "metadata": {},
   "source": [
    "##### 6"
   ]
  },
  {
   "cell_type": "markdown",
   "metadata": {},
   "source": [
    "![6](http://7xqhfk.com1.z0.glb.clouddn.com/ml-zb/lec11/0006.jpg)"
   ]
  },
  {
   "cell_type": "markdown",
   "metadata": {},
   "source": [
    "##### 7"
   ]
  },
  {
   "cell_type": "markdown",
   "metadata": {},
   "source": [
    "![7](http://7xqhfk.com1.z0.glb.clouddn.com/ml-zb/lec11/0007.jpg)"
   ]
  },
  {
   "cell_type": "markdown",
   "metadata": {},
   "source": [
    "##### 8"
   ]
  },
  {
   "cell_type": "markdown",
   "metadata": {},
   "source": [
    "![8](http://7xqhfk.com1.z0.glb.clouddn.com/ml-zb/lec11/0008.jpg)"
   ]
  },
  {
   "cell_type": "markdown",
   "metadata": {},
   "source": [
    "##### 9"
   ]
  },
  {
   "cell_type": "markdown",
   "metadata": {},
   "source": [
    "![9](http://7xqhfk.com1.z0.glb.clouddn.com/ml-zb/lec11/0009.jpg)"
   ]
  },
  {
   "cell_type": "markdown",
   "metadata": {},
   "source": [
    "##### 10"
   ]
  },
  {
   "cell_type": "markdown",
   "metadata": {},
   "source": [
    "![10](http://7xqhfk.com1.z0.glb.clouddn.com/ml-zb/lec11/0010.jpg)"
   ]
  },
  {
   "cell_type": "markdown",
   "metadata": {},
   "source": [
    "##### 11"
   ]
  },
  {
   "cell_type": "markdown",
   "metadata": {},
   "source": [
    "![11](http://7xqhfk.com1.z0.glb.clouddn.com/ml-zb/lec11/0011.jpg)"
   ]
  },
  {
   "cell_type": "markdown",
   "metadata": {},
   "source": [
    "##### 12"
   ]
  },
  {
   "cell_type": "markdown",
   "metadata": {},
   "source": [
    "![12](http://7xqhfk.com1.z0.glb.clouddn.com/ml-zb/lec11/0012.jpg)"
   ]
  },
  {
   "cell_type": "markdown",
   "metadata": {},
   "source": [
    "##### 13"
   ]
  },
  {
   "cell_type": "markdown",
   "metadata": {},
   "source": [
    "![13](http://7xqhfk.com1.z0.glb.clouddn.com/ml-zb/lec11/0013.jpg)"
   ]
  },
  {
   "cell_type": "markdown",
   "metadata": {},
   "source": [
    "##### 14"
   ]
  },
  {
   "cell_type": "markdown",
   "metadata": {},
   "source": [
    "![14](http://7xqhfk.com1.z0.glb.clouddn.com/ml-zb/lec11/0014.jpg)"
   ]
  },
  {
   "cell_type": "markdown",
   "metadata": {},
   "source": [
    "##### 15"
   ]
  },
  {
   "cell_type": "markdown",
   "metadata": {},
   "source": [
    "![15](http://7xqhfk.com1.z0.glb.clouddn.com/ml-zb/lec11/0015.jpg)"
   ]
  },
  {
   "cell_type": "markdown",
   "metadata": {},
   "source": [
    "##### 16"
   ]
  },
  {
   "cell_type": "markdown",
   "metadata": {},
   "source": [
    "![16](http://7xqhfk.com1.z0.glb.clouddn.com/ml-zb/lec11/0016.jpg)"
   ]
  },
  {
   "cell_type": "markdown",
   "metadata": {},
   "source": [
    "##### 17"
   ]
  },
  {
   "cell_type": "markdown",
   "metadata": {},
   "source": [
    "![17](http://7xqhfk.com1.z0.glb.clouddn.com/ml-zb/lec11/0017.jpg)"
   ]
  },
  {
   "cell_type": "markdown",
   "metadata": {},
   "source": [
    "##### 18"
   ]
  },
  {
   "cell_type": "markdown",
   "metadata": {},
   "source": [
    "![18](http://7xqhfk.com1.z0.glb.clouddn.com/ml-zb/lec11/0018.jpg)"
   ]
  },
  {
   "cell_type": "markdown",
   "metadata": {},
   "source": [
    "##### 19"
   ]
  },
  {
   "cell_type": "markdown",
   "metadata": {},
   "source": [
    "![19](http://7xqhfk.com1.z0.glb.clouddn.com/ml-zb/lec11/0019.jpg)"
   ]
  },
  {
   "cell_type": "markdown",
   "metadata": {},
   "source": [
    "##### 20"
   ]
  },
  {
   "cell_type": "markdown",
   "metadata": {},
   "source": [
    "![20](http://7xqhfk.com1.z0.glb.clouddn.com/ml-zb/lec11/0020.jpg)"
   ]
  },
  {
   "cell_type": "markdown",
   "metadata": {},
   "source": [
    "##### 21"
   ]
  },
  {
   "cell_type": "markdown",
   "metadata": {},
   "source": [
    "![21](http://7xqhfk.com1.z0.glb.clouddn.com/ml-zb/lec11/0021.jpg)"
   ]
  },
  {
   "cell_type": "markdown",
   "metadata": {},
   "source": [
    "##### 22"
   ]
  },
  {
   "cell_type": "markdown",
   "metadata": {},
   "source": [
    "![22](http://7xqhfk.com1.z0.glb.clouddn.com/ml-zb/lec11/0022.jpg)"
   ]
  },
  {
   "cell_type": "markdown",
   "metadata": {},
   "source": [
    "##### 23"
   ]
  },
  {
   "cell_type": "markdown",
   "metadata": {},
   "source": [
    "![23](http://7xqhfk.com1.z0.glb.clouddn.com/ml-zb/lec11/0023.jpg)"
   ]
  },
  {
   "cell_type": "markdown",
   "metadata": {},
   "source": [
    "##### 24"
   ]
  },
  {
   "cell_type": "markdown",
   "metadata": {},
   "source": [
    "![24](http://7xqhfk.com1.z0.glb.clouddn.com/ml-zb/lec11/0024.jpg)"
   ]
  },
  {
   "cell_type": "markdown",
   "metadata": {},
   "source": [
    "##### 25"
   ]
  },
  {
   "cell_type": "markdown",
   "metadata": {},
   "source": [
    "![25](http://7xqhfk.com1.z0.glb.clouddn.com/ml-zb/lec11/0025.jpg)"
   ]
  },
  {
   "cell_type": "markdown",
   "metadata": {},
   "source": [
    "##### 26"
   ]
  },
  {
   "cell_type": "markdown",
   "metadata": {},
   "source": [
    "![26](http://7xqhfk.com1.z0.glb.clouddn.com/ml-zb/lec11/0026.jpg)"
   ]
  },
  {
   "cell_type": "markdown",
   "metadata": {},
   "source": [
    "##### 27"
   ]
  },
  {
   "cell_type": "markdown",
   "metadata": {},
   "source": [
    "![27](http://7xqhfk.com1.z0.glb.clouddn.com/ml-zb/lec11/0027.jpg)"
   ]
  },
  {
   "cell_type": "markdown",
   "metadata": {},
   "source": [
    "##### 28"
   ]
  },
  {
   "cell_type": "markdown",
   "metadata": {},
   "source": [
    "![28](http://7xqhfk.com1.z0.glb.clouddn.com/ml-zb/lec11/0028.jpg)"
   ]
  },
  {
   "cell_type": "markdown",
   "metadata": {},
   "source": [
    "##### 29"
   ]
  },
  {
   "cell_type": "markdown",
   "metadata": {},
   "source": [
    "![29](http://7xqhfk.com1.z0.glb.clouddn.com/ml-zb/lec11/0029.jpg)"
   ]
  },
  {
   "cell_type": "markdown",
   "metadata": {},
   "source": [
    "##### 30"
   ]
  },
  {
   "cell_type": "markdown",
   "metadata": {},
   "source": [
    "![30](http://7xqhfk.com1.z0.glb.clouddn.com/ml-zb/lec11/0030.jpg)"
   ]
  },
  {
   "cell_type": "markdown",
   "metadata": {},
   "source": [
    "##### 31"
   ]
  },
  {
   "cell_type": "markdown",
   "metadata": {},
   "source": [
    "![31](http://7xqhfk.com1.z0.glb.clouddn.com/ml-zb/lec11/0031.jpg)"
   ]
  },
  {
   "cell_type": "markdown",
   "metadata": {},
   "source": [
    "##### 32"
   ]
  },
  {
   "cell_type": "markdown",
   "metadata": {},
   "source": [
    "![32](http://7xqhfk.com1.z0.glb.clouddn.com/ml-zb/lec11/0032.jpg)"
   ]
  },
  {
   "cell_type": "markdown",
   "metadata": {},
   "source": [
    "##### 33"
   ]
  },
  {
   "cell_type": "markdown",
   "metadata": {},
   "source": [
    "![33](http://7xqhfk.com1.z0.glb.clouddn.com/ml-zb/lec11/0033.jpg)"
   ]
  },
  {
   "cell_type": "markdown",
   "metadata": {},
   "source": [
    "##### 34"
   ]
  },
  {
   "cell_type": "markdown",
   "metadata": {},
   "source": [
    "![34](http://7xqhfk.com1.z0.glb.clouddn.com/ml-zb/lec11/0034.jpg)"
   ]
  },
  {
   "cell_type": "markdown",
   "metadata": {},
   "source": [
    "##### 35"
   ]
  },
  {
   "cell_type": "markdown",
   "metadata": {},
   "source": [
    "![35](http://7xqhfk.com1.z0.glb.clouddn.com/ml-zb/lec11/0035.jpg)"
   ]
  },
  {
   "cell_type": "markdown",
   "metadata": {},
   "source": [
    "##### 36"
   ]
  },
  {
   "cell_type": "markdown",
   "metadata": {},
   "source": [
    "![36](http://7xqhfk.com1.z0.glb.clouddn.com/ml-zb/lec11/0036.jpg)"
   ]
  },
  {
   "cell_type": "markdown",
   "metadata": {},
   "source": [
    "##### 37"
   ]
  },
  {
   "cell_type": "markdown",
   "metadata": {},
   "source": [
    "![37](http://7xqhfk.com1.z0.glb.clouddn.com/ml-zb/lec11/0037.jpg)"
   ]
  },
  {
   "cell_type": "markdown",
   "metadata": {},
   "source": [
    "##### 38"
   ]
  },
  {
   "cell_type": "markdown",
   "metadata": {},
   "source": [
    "![38](http://7xqhfk.com1.z0.glb.clouddn.com/ml-zb/lec11/0038.jpg)"
   ]
  },
  {
   "cell_type": "markdown",
   "metadata": {},
   "source": [
    "##### 39"
   ]
  },
  {
   "cell_type": "markdown",
   "metadata": {},
   "source": [
    "![39](http://7xqhfk.com1.z0.glb.clouddn.com/ml-zb/lec11/0039.jpg)"
   ]
  },
  {
   "cell_type": "markdown",
   "metadata": {},
   "source": [
    "##### 40"
   ]
  },
  {
   "cell_type": "markdown",
   "metadata": {},
   "source": [
    "![40](http://7xqhfk.com1.z0.glb.clouddn.com/ml-zb/lec11/0040.jpg)"
   ]
  },
  {
   "cell_type": "markdown",
   "metadata": {},
   "source": [
    "##### 41"
   ]
  },
  {
   "cell_type": "markdown",
   "metadata": {},
   "source": [
    "![41](http://7xqhfk.com1.z0.glb.clouddn.com/ml-zb/lec11/0041.jpg)"
   ]
  },
  {
   "cell_type": "markdown",
   "metadata": {},
   "source": [
    "##### 42"
   ]
  },
  {
   "cell_type": "markdown",
   "metadata": {},
   "source": [
    "![42](http://7xqhfk.com1.z0.glb.clouddn.com/ml-zb/lec11/0042.jpg)"
   ]
  },
  {
   "cell_type": "markdown",
   "metadata": {},
   "source": [
    "##### 43"
   ]
  },
  {
   "cell_type": "markdown",
   "metadata": {},
   "source": [
    "![43](http://7xqhfk.com1.z0.glb.clouddn.com/ml-zb/lec11/0043.jpg)"
   ]
  },
  {
   "cell_type": "markdown",
   "metadata": {},
   "source": [
    "##### 44"
   ]
  },
  {
   "cell_type": "markdown",
   "metadata": {},
   "source": [
    "![44](http://7xqhfk.com1.z0.glb.clouddn.com/ml-zb/lec11/0044.jpg)"
   ]
  },
  {
   "cell_type": "markdown",
   "metadata": {},
   "source": [
    "##### 45"
   ]
  },
  {
   "cell_type": "markdown",
   "metadata": {},
   "source": [
    "![45](http://7xqhfk.com1.z0.glb.clouddn.com/ml-zb/lec11/0045.jpg)"
   ]
  },
  {
   "cell_type": "markdown",
   "metadata": {},
   "source": [
    "##### 46"
   ]
  },
  {
   "cell_type": "markdown",
   "metadata": {},
   "source": [
    "![46](http://7xqhfk.com1.z0.glb.clouddn.com/ml-zb/lec11/0046.jpg)"
   ]
  },
  {
   "cell_type": "markdown",
   "metadata": {},
   "source": [
    "##### 47"
   ]
  },
  {
   "cell_type": "markdown",
   "metadata": {},
   "source": [
    "![47](http://7xqhfk.com1.z0.glb.clouddn.com/ml-zb/lec11/0047.jpg)"
   ]
  },
  {
   "cell_type": "markdown",
   "metadata": {},
   "source": [
    "##### 48"
   ]
  },
  {
   "cell_type": "markdown",
   "metadata": {},
   "source": [
    "![48](http://7xqhfk.com1.z0.glb.clouddn.com/ml-zb/lec11/0048.jpg)"
   ]
  },
  {
   "cell_type": "markdown",
   "metadata": {},
   "source": [
    "##### 49"
   ]
  },
  {
   "cell_type": "markdown",
   "metadata": {},
   "source": [
    "![49](http://7xqhfk.com1.z0.glb.clouddn.com/ml-zb/lec11/0049.jpg)"
   ]
  },
  {
   "cell_type": "markdown",
   "metadata": {},
   "source": [
    "##### 50"
   ]
  },
  {
   "cell_type": "markdown",
   "metadata": {},
   "source": [
    "![50](http://7xqhfk.com1.z0.glb.clouddn.com/ml-zb/lec11/0050.jpg)"
   ]
  },
  {
   "cell_type": "markdown",
   "metadata": {},
   "source": [
    "##### 51"
   ]
  },
  {
   "cell_type": "markdown",
   "metadata": {},
   "source": [
    "![51](http://7xqhfk.com1.z0.glb.clouddn.com/ml-zb/lec11/0051.jpg)"
   ]
  },
  {
   "cell_type": "markdown",
   "metadata": {},
   "source": [
    "##### 52"
   ]
  },
  {
   "cell_type": "markdown",
   "metadata": {},
   "source": [
    "![52](http://7xqhfk.com1.z0.glb.clouddn.com/ml-zb/lec11/0052.jpg)"
   ]
  },
  {
   "cell_type": "markdown",
   "metadata": {},
   "source": [
    "##### 53"
   ]
  },
  {
   "cell_type": "markdown",
   "metadata": {},
   "source": [
    "![53](http://7xqhfk.com1.z0.glb.clouddn.com/ml-zb/lec11/0053.jpg)"
   ]
  },
  {
   "cell_type": "markdown",
   "metadata": {},
   "source": [
    "##### 54"
   ]
  },
  {
   "cell_type": "markdown",
   "metadata": {},
   "source": [
    "![54](http://7xqhfk.com1.z0.glb.clouddn.com/ml-zb/lec11/0054.jpg)"
   ]
  },
  {
   "cell_type": "markdown",
   "metadata": {},
   "source": [
    "##### 55"
   ]
  },
  {
   "cell_type": "markdown",
   "metadata": {},
   "source": [
    "![55](http://7xqhfk.com1.z0.glb.clouddn.com/ml-zb/lec11/0055.jpg)"
   ]
  },
  {
   "cell_type": "markdown",
   "metadata": {},
   "source": [
    "##### 56"
   ]
  },
  {
   "cell_type": "markdown",
   "metadata": {},
   "source": [
    "![56](http://7xqhfk.com1.z0.glb.clouddn.com/ml-zb/lec11/0056.jpg)"
   ]
  },
  {
   "cell_type": "markdown",
   "metadata": {},
   "source": [
    "##### 57"
   ]
  },
  {
   "cell_type": "markdown",
   "metadata": {},
   "source": [
    "![57](http://7xqhfk.com1.z0.glb.clouddn.com/ml-zb/lec11/0057.jpg)"
   ]
  },
  {
   "cell_type": "markdown",
   "metadata": {},
   "source": [
    "##### 58"
   ]
  },
  {
   "cell_type": "markdown",
   "metadata": {},
   "source": [
    "![58](http://7xqhfk.com1.z0.glb.clouddn.com/ml-zb/lec11/0058.jpg)"
   ]
  },
  {
   "cell_type": "markdown",
   "metadata": {},
   "source": [
    "##### 59"
   ]
  },
  {
   "cell_type": "markdown",
   "metadata": {},
   "source": [
    "![59](http://7xqhfk.com1.z0.glb.clouddn.com/ml-zb/lec11/0059.jpg)"
   ]
  },
  {
   "cell_type": "markdown",
   "metadata": {},
   "source": [
    "##### 60"
   ]
  },
  {
   "cell_type": "markdown",
   "metadata": {},
   "source": [
    "![60](http://7xqhfk.com1.z0.glb.clouddn.com/ml-zb/lec11/0060.jpg)"
   ]
  },
  {
   "cell_type": "markdown",
   "metadata": {},
   "source": [
    "##### 61"
   ]
  },
  {
   "cell_type": "markdown",
   "metadata": {},
   "source": [
    "![61](http://7xqhfk.com1.z0.glb.clouddn.com/ml-zb/lec11/0061.jpg)"
   ]
  },
  {
   "cell_type": "markdown",
   "metadata": {},
   "source": [
    "##### 62"
   ]
  },
  {
   "cell_type": "markdown",
   "metadata": {},
   "source": [
    "![62](http://7xqhfk.com1.z0.glb.clouddn.com/ml-zb/lec11/0062.jpg)"
   ]
  },
  {
   "cell_type": "markdown",
   "metadata": {},
   "source": [
    "##### 63"
   ]
  },
  {
   "cell_type": "markdown",
   "metadata": {},
   "source": [
    "![63](http://7xqhfk.com1.z0.glb.clouddn.com/ml-zb/lec11/0063.jpg)"
   ]
  },
  {
   "cell_type": "markdown",
   "metadata": {},
   "source": [
    "##### 64"
   ]
  },
  {
   "cell_type": "markdown",
   "metadata": {},
   "source": [
    "![64](http://7xqhfk.com1.z0.glb.clouddn.com/ml-zb/lec11/0064.jpg)"
   ]
  },
  {
   "cell_type": "markdown",
   "metadata": {},
   "source": [
    "##### 65"
   ]
  },
  {
   "cell_type": "markdown",
   "metadata": {},
   "source": [
    "![65](http://7xqhfk.com1.z0.glb.clouddn.com/ml-zb/lec11/0065.jpg)"
   ]
  },
  {
   "cell_type": "markdown",
   "metadata": {},
   "source": [
    "##### 66"
   ]
  },
  {
   "cell_type": "markdown",
   "metadata": {},
   "source": [
    "![66](http://7xqhfk.com1.z0.glb.clouddn.com/ml-zb/lec11/0066.jpg)"
   ]
  },
  {
   "cell_type": "markdown",
   "metadata": {},
   "source": [
    "##### 67"
   ]
  },
  {
   "cell_type": "markdown",
   "metadata": {},
   "source": [
    "![67](http://7xqhfk.com1.z0.glb.clouddn.com/ml-zb/lec11/0067.jpg)"
   ]
  },
  {
   "cell_type": "markdown",
   "metadata": {},
   "source": [
    "##### 68"
   ]
  },
  {
   "cell_type": "markdown",
   "metadata": {},
   "source": [
    "![68](http://7xqhfk.com1.z0.glb.clouddn.com/ml-zb/lec11/0068.jpg)"
   ]
  },
  {
   "cell_type": "markdown",
   "metadata": {},
   "source": [
    "##### 69"
   ]
  },
  {
   "cell_type": "markdown",
   "metadata": {},
   "source": [
    "![69](http://7xqhfk.com1.z0.glb.clouddn.com/ml-zb/lec11/0069.jpg)"
   ]
  },
  {
   "cell_type": "markdown",
   "metadata": {},
   "source": [
    "##### 70"
   ]
  },
  {
   "cell_type": "markdown",
   "metadata": {},
   "source": [
    "![70](http://7xqhfk.com1.z0.glb.clouddn.com/ml-zb/lec11/0070.jpg)"
   ]
  },
  {
   "cell_type": "markdown",
   "metadata": {},
   "source": [
    "##### 71"
   ]
  },
  {
   "cell_type": "markdown",
   "metadata": {},
   "source": [
    "![71](http://7xqhfk.com1.z0.glb.clouddn.com/ml-zb/lec11/0071.jpg)"
   ]
  },
  {
   "cell_type": "markdown",
   "metadata": {},
   "source": [
    "##### 72"
   ]
  },
  {
   "cell_type": "markdown",
   "metadata": {},
   "source": [
    "![72](http://7xqhfk.com1.z0.glb.clouddn.com/ml-zb/lec11/0072.jpg)"
   ]
  },
  {
   "cell_type": "markdown",
   "metadata": {},
   "source": [
    "##### 73"
   ]
  },
  {
   "cell_type": "markdown",
   "metadata": {},
   "source": [
    "![73](http://7xqhfk.com1.z0.glb.clouddn.com/ml-zb/lec11/0073.jpg)"
   ]
  },
  {
   "cell_type": "markdown",
   "metadata": {},
   "source": [
    "##### 74"
   ]
  },
  {
   "cell_type": "markdown",
   "metadata": {},
   "source": [
    "![74](http://7xqhfk.com1.z0.glb.clouddn.com/ml-zb/lec11/0074.jpg)"
   ]
  },
  {
   "cell_type": "markdown",
   "metadata": {},
   "source": [
    "##### 75"
   ]
  },
  {
   "cell_type": "markdown",
   "metadata": {},
   "source": [
    "![75](http://7xqhfk.com1.z0.glb.clouddn.com/ml-zb/lec11/0075.jpg)"
   ]
  },
  {
   "cell_type": "markdown",
   "metadata": {},
   "source": [
    "##### 76"
   ]
  },
  {
   "cell_type": "markdown",
   "metadata": {},
   "source": [
    "![76](http://7xqhfk.com1.z0.glb.clouddn.com/ml-zb/lec11/0076.jpg)"
   ]
  },
  {
   "cell_type": "markdown",
   "metadata": {},
   "source": [
    "##### 77"
   ]
  },
  {
   "cell_type": "markdown",
   "metadata": {},
   "source": [
    "![77](http://7xqhfk.com1.z0.glb.clouddn.com/ml-zb/lec11/0077.jpg)"
   ]
  },
  {
   "cell_type": "markdown",
   "metadata": {},
   "source": [
    "##### 78"
   ]
  },
  {
   "cell_type": "markdown",
   "metadata": {},
   "source": [
    "![78](http://7xqhfk.com1.z0.glb.clouddn.com/ml-zb/lec11/0078.jpg)"
   ]
  },
  {
   "cell_type": "markdown",
   "metadata": {},
   "source": [
    "##### 79"
   ]
  },
  {
   "cell_type": "markdown",
   "metadata": {},
   "source": [
    "![79](http://7xqhfk.com1.z0.glb.clouddn.com/ml-zb/lec11/0079.jpg)"
   ]
  },
  {
   "cell_type": "markdown",
   "metadata": {},
   "source": [
    "##### 80"
   ]
  },
  {
   "cell_type": "markdown",
   "metadata": {},
   "source": [
    "![80](http://7xqhfk.com1.z0.glb.clouddn.com/ml-zb/lec11/0080.jpg)"
   ]
  },
  {
   "cell_type": "markdown",
   "metadata": {},
   "source": [
    "##### 81"
   ]
  },
  {
   "cell_type": "markdown",
   "metadata": {},
   "source": [
    "![81](http://7xqhfk.com1.z0.glb.clouddn.com/ml-zb/lec11/0081.jpg)"
   ]
  },
  {
   "cell_type": "markdown",
   "metadata": {},
   "source": [
    "##### 82"
   ]
  },
  {
   "cell_type": "markdown",
   "metadata": {},
   "source": [
    "![82](http://7xqhfk.com1.z0.glb.clouddn.com/ml-zb/lec11/0082.jpg)"
   ]
  },
  {
   "cell_type": "markdown",
   "metadata": {},
   "source": [
    "##### 83"
   ]
  },
  {
   "cell_type": "markdown",
   "metadata": {},
   "source": [
    "![83](http://7xqhfk.com1.z0.glb.clouddn.com/ml-zb/lec11/0083.jpg)"
   ]
  },
  {
   "cell_type": "markdown",
   "metadata": {},
   "source": [
    "##### 84"
   ]
  },
  {
   "cell_type": "markdown",
   "metadata": {},
   "source": [
    "![84](http://7xqhfk.com1.z0.glb.clouddn.com/ml-zb/lec11/0084.jpg)"
   ]
  },
  {
   "cell_type": "markdown",
   "metadata": {},
   "source": [
    "##### 85"
   ]
  },
  {
   "cell_type": "markdown",
   "metadata": {},
   "source": [
    "![85](http://7xqhfk.com1.z0.glb.clouddn.com/ml-zb/lec11/0085.jpg)"
   ]
  },
  {
   "cell_type": "markdown",
   "metadata": {},
   "source": [
    "##### 86"
   ]
  },
  {
   "cell_type": "markdown",
   "metadata": {},
   "source": [
    "![86](http://7xqhfk.com1.z0.glb.clouddn.com/ml-zb/lec11/0086.jpg)"
   ]
  },
  {
   "cell_type": "markdown",
   "metadata": {},
   "source": [
    "##### 87"
   ]
  },
  {
   "cell_type": "markdown",
   "metadata": {},
   "source": [
    "![87](http://7xqhfk.com1.z0.glb.clouddn.com/ml-zb/lec11/0087.jpg)"
   ]
  },
  {
   "cell_type": "markdown",
   "metadata": {},
   "source": [
    "##### 88"
   ]
  },
  {
   "cell_type": "markdown",
   "metadata": {},
   "source": [
    "![88](http://7xqhfk.com1.z0.glb.clouddn.com/ml-zb/lec11/0088.jpg)"
   ]
  },
  {
   "cell_type": "markdown",
   "metadata": {},
   "source": [
    "##### 89"
   ]
  },
  {
   "cell_type": "markdown",
   "metadata": {},
   "source": [
    "![89](http://7xqhfk.com1.z0.glb.clouddn.com/ml-zb/lec11/0089.jpg)"
   ]
  },
  {
   "cell_type": "markdown",
   "metadata": {},
   "source": [
    "##### 90"
   ]
  },
  {
   "cell_type": "markdown",
   "metadata": {},
   "source": [
    "![90](http://7xqhfk.com1.z0.glb.clouddn.com/ml-zb/lec11/0090.jpg)"
   ]
  },
  {
   "cell_type": "markdown",
   "metadata": {},
   "source": [
    "##### 91"
   ]
  },
  {
   "cell_type": "markdown",
   "metadata": {},
   "source": [
    "![91](http://7xqhfk.com1.z0.glb.clouddn.com/ml-zb/lec11/0091.jpg)"
   ]
  },
  {
   "cell_type": "markdown",
   "metadata": {},
   "source": [
    "##### 92"
   ]
  },
  {
   "cell_type": "markdown",
   "metadata": {},
   "source": [
    "![92](http://7xqhfk.com1.z0.glb.clouddn.com/ml-zb/lec11/0092.jpg)"
   ]
  },
  {
   "cell_type": "markdown",
   "metadata": {},
   "source": [
    "##### 93"
   ]
  },
  {
   "cell_type": "markdown",
   "metadata": {},
   "source": [
    "![93](http://7xqhfk.com1.z0.glb.clouddn.com/ml-zb/lec11/0093.jpg)"
   ]
  },
  {
   "cell_type": "markdown",
   "metadata": {},
   "source": [
    "##### 94"
   ]
  },
  {
   "cell_type": "markdown",
   "metadata": {},
   "source": [
    "![94](http://7xqhfk.com1.z0.glb.clouddn.com/ml-zb/lec11/0094.jpg)"
   ]
  },
  {
   "cell_type": "markdown",
   "metadata": {},
   "source": [
    "##### 95"
   ]
  },
  {
   "cell_type": "markdown",
   "metadata": {},
   "source": [
    "![95](http://7xqhfk.com1.z0.glb.clouddn.com/ml-zb/lec11/0095.jpg)"
   ]
  },
  {
   "cell_type": "markdown",
   "metadata": {},
   "source": [
    "##### 96"
   ]
  },
  {
   "cell_type": "markdown",
   "metadata": {},
   "source": [
    "![96](http://7xqhfk.com1.z0.glb.clouddn.com/ml-zb/lec11/0096.jpg)"
   ]
  },
  {
   "cell_type": "markdown",
   "metadata": {},
   "source": [
    "##### 97"
   ]
  },
  {
   "cell_type": "markdown",
   "metadata": {},
   "source": [
    "![97](http://7xqhfk.com1.z0.glb.clouddn.com/ml-zb/lec11/0097.jpg)"
   ]
  },
  {
   "cell_type": "markdown",
   "metadata": {},
   "source": [
    "##### 98"
   ]
  },
  {
   "cell_type": "markdown",
   "metadata": {},
   "source": [
    "![98](http://7xqhfk.com1.z0.glb.clouddn.com/ml-zb/lec11/0098.jpg)"
   ]
  },
  {
   "cell_type": "markdown",
   "metadata": {},
   "source": [
    "##### 99"
   ]
  },
  {
   "cell_type": "markdown",
   "metadata": {},
   "source": [
    "![99](http://7xqhfk.com1.z0.glb.clouddn.com/ml-zb/lec11/0099.jpg)"
   ]
  },
  {
   "cell_type": "markdown",
   "metadata": {},
   "source": [
    "##### 100"
   ]
  },
  {
   "cell_type": "markdown",
   "metadata": {},
   "source": [
    "![100](http://7xqhfk.com1.z0.glb.clouddn.com/ml-zb/lec11/0100.jpg)"
   ]
  },
  {
   "cell_type": "markdown",
   "metadata": {},
   "source": [
    "##### 101"
   ]
  },
  {
   "cell_type": "markdown",
   "metadata": {},
   "source": [
    "![101](http://7xqhfk.com1.z0.glb.clouddn.com/ml-zb/lec11/0101.jpg)"
   ]
  },
  {
   "cell_type": "markdown",
   "metadata": {},
   "source": [
    "##### 102"
   ]
  },
  {
   "cell_type": "markdown",
   "metadata": {},
   "source": [
    "![102](http://7xqhfk.com1.z0.glb.clouddn.com/ml-zb/lec11/0102.jpg)"
   ]
  },
  {
   "cell_type": "markdown",
   "metadata": {},
   "source": [
    "##### 103"
   ]
  },
  {
   "cell_type": "markdown",
   "metadata": {},
   "source": [
    "![103](http://7xqhfk.com1.z0.glb.clouddn.com/ml-zb/lec11/0103.jpg)"
   ]
  },
  {
   "cell_type": "markdown",
   "metadata": {},
   "source": [
    "##### 104"
   ]
  },
  {
   "cell_type": "markdown",
   "metadata": {},
   "source": [
    "![104](http://7xqhfk.com1.z0.glb.clouddn.com/ml-zb/lec11/0104.jpg)"
   ]
  },
  {
   "cell_type": "markdown",
   "metadata": {},
   "source": [
    "##### 105"
   ]
  },
  {
   "cell_type": "markdown",
   "metadata": {},
   "source": [
    "![105](http://7xqhfk.com1.z0.glb.clouddn.com/ml-zb/lec11/0105.jpg)"
   ]
  },
  {
   "cell_type": "markdown",
   "metadata": {},
   "source": [
    "##### 106"
   ]
  },
  {
   "cell_type": "markdown",
   "metadata": {},
   "source": [
    "![106](http://7xqhfk.com1.z0.glb.clouddn.com/ml-zb/lec11/0106.jpg)"
   ]
  },
  {
   "cell_type": "markdown",
   "metadata": {},
   "source": [
    "##### 107"
   ]
  },
  {
   "cell_type": "markdown",
   "metadata": {},
   "source": [
    "![107](http://7xqhfk.com1.z0.glb.clouddn.com/ml-zb/lec11/0107.jpg)"
   ]
  },
  {
   "cell_type": "markdown",
   "metadata": {},
   "source": [
    "##### 108"
   ]
  },
  {
   "cell_type": "markdown",
   "metadata": {},
   "source": [
    "![108](http://7xqhfk.com1.z0.glb.clouddn.com/ml-zb/lec11/0108.jpg)"
   ]
  },
  {
   "cell_type": "code",
   "execution_count": null,
   "metadata": {
    "collapsed": true
   },
   "outputs": [],
   "source": []
  }
 ],
 "metadata": {
  "kernelspec": {
   "display_name": "Python 2",
   "language": "python",
   "name": "python2"
  },
  "language_info": {
   "codemirror_mode": {
    "name": "ipython",
    "version": 2
   },
   "file_extension": ".py",
   "mimetype": "text/x-python",
   "name": "python",
   "nbconvert_exporter": "python",
   "pygments_lexer": "ipython2",
   "version": "2.7.10"
  }
 },
 "nbformat": 4,
 "nbformat_minor": 0
}
