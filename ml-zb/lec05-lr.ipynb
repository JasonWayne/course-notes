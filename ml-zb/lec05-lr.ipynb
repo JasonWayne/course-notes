{
 "cells": [
  {
   "cell_type": "markdown",
   "metadata": {},
   "source": [
    "##### 1"
   ]
  },
  {
   "cell_type": "markdown",
   "metadata": {},
   "source": [
    "![1](http://7xqhfk.com1.z0.glb.clouddn.com/zbml/lec05/0001.jpg)"
   ]
  },
  {
   "cell_type": "markdown",
   "metadata": {},
   "source": [
    "##### 2"
   ]
  },
  {
   "cell_type": "markdown",
   "metadata": {},
   "source": [
    "![2](http://7xqhfk.com1.z0.glb.clouddn.com/zbml/lec05/0002.jpg)"
   ]
  },
  {
   "cell_type": "markdown",
   "metadata": {},
   "source": [
    "##### 3"
   ]
  },
  {
   "cell_type": "markdown",
   "metadata": {},
   "source": [
    "![3](http://7xqhfk.com1.z0.glb.clouddn.com/zbml/lec05/0003.jpg)"
   ]
  },
  {
   "cell_type": "markdown",
   "metadata": {},
   "source": [
    "##### 4"
   ]
  },
  {
   "cell_type": "markdown",
   "metadata": {},
   "source": [
    "![4](http://7xqhfk.com1.z0.glb.clouddn.com/zbml/lec05/0004.jpg)"
   ]
  },
  {
   "cell_type": "markdown",
   "metadata": {},
   "source": [
    "##### 5"
   ]
  },
  {
   "cell_type": "markdown",
   "metadata": {},
   "source": [
    "![5](http://7xqhfk.com1.z0.glb.clouddn.com/zbml/lec05/0005.jpg)"
   ]
  },
  {
   "cell_type": "markdown",
   "metadata": {},
   "source": [
    "##### 6"
   ]
  },
  {
   "cell_type": "markdown",
   "metadata": {},
   "source": [
    "![6](http://7xqhfk.com1.z0.glb.clouddn.com/zbml/lec05/0006.jpg)"
   ]
  },
  {
   "cell_type": "markdown",
   "metadata": {},
   "source": [
    "##### 7"
   ]
  },
  {
   "cell_type": "markdown",
   "metadata": {},
   "source": [
    "![7](http://7xqhfk.com1.z0.glb.clouddn.com/zbml/lec05/0007.jpg)"
   ]
  },
  {
   "cell_type": "markdown",
   "metadata": {},
   "source": [
    "##### 8"
   ]
  },
  {
   "cell_type": "markdown",
   "metadata": {},
   "source": [
    "![8](http://7xqhfk.com1.z0.glb.clouddn.com/zbml/lec05/0008.jpg)"
   ]
  },
  {
   "cell_type": "markdown",
   "metadata": {},
   "source": [
    "##### 9"
   ]
  },
  {
   "cell_type": "markdown",
   "metadata": {},
   "source": [
    "![9](http://7xqhfk.com1.z0.glb.clouddn.com/zbml/lec05/0009.jpg)"
   ]
  },
  {
   "cell_type": "markdown",
   "metadata": {},
   "source": [
    "##### 10"
   ]
  },
  {
   "cell_type": "markdown",
   "metadata": {},
   "source": [
    "![10](http://7xqhfk.com1.z0.glb.clouddn.com/zbml/lec05/0010.jpg)"
   ]
  },
  {
   "cell_type": "markdown",
   "metadata": {},
   "source": [
    "- $(X^TX)^{-1}X^T$被称作$X$的伪逆。方阵才有逆矩阵，而这里的这个乘积，就像逆矩阵一样。\n",
    "\n",
    "- 如果$（X^TX)$接近不可逆，即行列式接近零，那么$\\theta$就会是一个很大的值。加上$\\lambda$以后，就能使$\\theta$的值变小\n",
    "\n",
    "- 加入$\\lambda$后，就是岭回归，可以看MLAPP的第225页，讲的非常非常好。岭回归就是给参数w加入了一个先验，要求w服从$N(0, \\gamma^2)$，那么$\\gamma$就相当于标准差，自然是标准差越小，w就被限制的越小，而这里的$\\lambda$，有$\\lambda = \\sigma^2 / \\gamma ^ 2$，这个$\\sigma$就是这里前面的$\\epsilon$的方差。"
   ]
  },
  {
   "cell_type": "markdown",
   "metadata": {},
   "source": [
    "下面是从MLAPP中截的图\n",
    "![lasso](images/lec05/regression_table.png)"
   ]
  },
  {
   "cell_type": "markdown",
   "metadata": {},
   "source": [
    "The posterior is simply the likelihood times the prior, normalized. "
   ]
  },
  {
   "cell_type": "markdown",
   "metadata": {},
   "source": [
    "##### 11"
   ]
  },
  {
   "cell_type": "markdown",
   "metadata": {},
   "source": [
    "![11](http://7xqhfk.com1.z0.glb.clouddn.com/zbml/lec05/0011.jpg)"
   ]
  },
  {
   "cell_type": "markdown",
   "metadata": {},
   "source": [
    "##### 12"
   ]
  },
  {
   "cell_type": "markdown",
   "metadata": {},
   "source": [
    "![12](http://7xqhfk.com1.z0.glb.clouddn.com/zbml/lec05/0012.jpg)"
   ]
  },
  {
   "cell_type": "markdown",
   "metadata": {},
   "source": [
    "##### 13"
   ]
  },
  {
   "cell_type": "markdown",
   "metadata": {},
   "source": [
    "![13](http://7xqhfk.com1.z0.glb.clouddn.com/zbml/lec05/0013.jpg)"
   ]
  },
  {
   "cell_type": "markdown",
   "metadata": {},
   "source": [
    "##### 14"
   ]
  },
  {
   "cell_type": "markdown",
   "metadata": {},
   "source": [
    "![14](http://7xqhfk.com1.z0.glb.clouddn.com/zbml/lec05/0014.jpg)"
   ]
  },
  {
   "cell_type": "markdown",
   "metadata": {},
   "source": [
    "##### 15"
   ]
  },
  {
   "cell_type": "markdown",
   "metadata": {},
   "source": [
    "![15](http://7xqhfk.com1.z0.glb.clouddn.com/zbml/lec05/0015.jpg)"
   ]
  },
  {
   "cell_type": "markdown",
   "metadata": {},
   "source": [
    "##### 16"
   ]
  },
  {
   "cell_type": "markdown",
   "metadata": {},
   "source": [
    "![16](http://7xqhfk.com1.z0.glb.clouddn.com/zbml/lec05/0016.jpg)"
   ]
  },
  {
   "cell_type": "markdown",
   "metadata": {},
   "source": [
    "##### 17"
   ]
  },
  {
   "cell_type": "markdown",
   "metadata": {},
   "source": [
    "![17](http://7xqhfk.com1.z0.glb.clouddn.com/zbml/lec05/0017.jpg)"
   ]
  },
  {
   "cell_type": "code",
   "execution_count": 23,
   "metadata": {
    "collapsed": false
   },
   "outputs": [
    {
     "name": "stdout",
     "output_type": "stream",
     "text": [
      "Populating the interactive namespace from numpy and matplotlib\n"
     ]
    },
    {
     "data": {
      "text/plain": [
       "<matplotlib.contour.QuadContourSet at 0x116db5790>"
      ]
     },
     "execution_count": 23,
     "metadata": {},
     "output_type": "execute_result"
    },
    {
     "data": {
      "image/png": "[encoded data removed]",
      "text/plain": [
       "<matplotlib.figure.Figure at 0x1155e54d0>"
      ]
     },
     "metadata": {},
     "output_type": "display_data"
    }
   ],
   "source": [
    "%pylab inline\n",
    "import numpy as np\n",
    "\n",
    "\n",
    "x = np.linspace(0, 50, 1000)\n",
    "y = np.linspace(0, 50, 1000)\n",
    "xx, yy = np.meshgrid(x, y)\n",
    "\n",
    "z = 3 * (xx - 25) ** 2 + 3 * (yy - 25) ** 2 - 2 * (xx - 25) * (yy - 25)\n",
    "plt.contour(xx, yy, z)"
   ]
  },
  {
   "cell_type": "markdown",
   "metadata": {},
   "source": [
    "##### 18"
   ]
  },
  {
   "cell_type": "markdown",
   "metadata": {},
   "source": [
    "![18](http://7xqhfk.com1.z0.glb.clouddn.com/zbml/lec05/0018.jpg)"
   ]
  },
  {
   "cell_type": "markdown",
   "metadata": {},
   "source": [
    "##### 19"
   ]
  },
  {
   "cell_type": "markdown",
   "metadata": {},
   "source": [
    "![19](http://7xqhfk.com1.z0.glb.clouddn.com/zbml/lec05/0019.jpg)"
   ]
  },
  {
   "cell_type": "markdown",
   "metadata": {},
   "source": [
    "##### 20"
   ]
  },
  {
   "cell_type": "markdown",
   "metadata": {},
   "source": [
    "![20](http://7xqhfk.com1.z0.glb.clouddn.com/zbml/lec05/0020.jpg)"
   ]
  },
  {
   "cell_type": "markdown",
   "metadata": {},
   "source": [
    "这个normalize应该翻译成归一化，规范化，正则化就是对应regularization，另外，标准化：standardization\n",
    "可以看看[这篇](http://blog.sina.com.cn/s/blog_973bec650101rnap.html)博客"
   ]
  },
  {
   "cell_type": "markdown",
   "metadata": {},
   "source": [
    "##### 21"
   ]
  },
  {
   "cell_type": "markdown",
   "metadata": {},
   "source": [
    "![21](http://7xqhfk.com1.z0.glb.clouddn.com/zbml/lec05/0021.jpg)"
   ]
  },
  {
   "cell_type": "markdown",
   "metadata": {},
   "source": [
    "讲道理的话，这里的几个代码都写的非常丑陋。"
   ]
  },
  {
   "cell_type": "markdown",
   "metadata": {},
   "source": [
    "##### 22"
   ]
  },
  {
   "cell_type": "markdown",
   "metadata": {},
   "source": [
    "![22](http://7xqhfk.com1.z0.glb.clouddn.com/zbml/lec05/0022.jpg)"
   ]
  },
  {
   "cell_type": "markdown",
   "metadata": {},
   "source": [
    "##### 23"
   ]
  },
  {
   "cell_type": "markdown",
   "metadata": {},
   "source": [
    "![23](http://7xqhfk.com1.z0.glb.clouddn.com/zbml/lec05/0023.jpg)"
   ]
  },
  {
   "cell_type": "markdown",
   "metadata": {},
   "source": [
    "##### 24"
   ]
  },
  {
   "cell_type": "markdown",
   "metadata": {},
   "source": [
    "![24](http://7xqhfk.com1.z0.glb.clouddn.com/zbml/lec05/0024.jpg)"
   ]
  },
  {
   "cell_type": "markdown",
   "metadata": {},
   "source": [
    "##### 25"
   ]
  },
  {
   "cell_type": "markdown",
   "metadata": {},
   "source": [
    "![25](http://7xqhfk.com1.z0.glb.clouddn.com/zbml/lec05/0025.jpg)"
   ]
  },
  {
   "cell_type": "markdown",
   "metadata": {},
   "source": [
    "##### 26"
   ]
  },
  {
   "cell_type": "markdown",
   "metadata": {},
   "source": [
    "![26](http://7xqhfk.com1.z0.glb.clouddn.com/zbml/lec05/0026.jpg)"
   ]
  },
  {
   "cell_type": "markdown",
   "metadata": {},
   "source": [
    "##### 27"
   ]
  },
  {
   "cell_type": "markdown",
   "metadata": {},
   "source": [
    "![27](http://7xqhfk.com1.z0.glb.clouddn.com/zbml/lec05/0027.jpg)"
   ]
  },
  {
   "cell_type": "markdown",
   "metadata": {},
   "source": [
    "##### 28"
   ]
  },
  {
   "cell_type": "markdown",
   "metadata": {},
   "source": [
    "![28](http://7xqhfk.com1.z0.glb.clouddn.com/zbml/lec05/0028.jpg)"
   ]
  },
  {
   "cell_type": "markdown",
   "metadata": {},
   "source": [
    "##### 29"
   ]
  },
  {
   "cell_type": "markdown",
   "metadata": {},
   "source": [
    "![29](http://7xqhfk.com1.z0.glb.clouddn.com/zbml/lec05/0029.jpg)"
   ]
  },
  {
   "cell_type": "markdown",
   "metadata": {},
   "source": [
    "##### 30"
   ]
  },
  {
   "cell_type": "markdown",
   "metadata": {},
   "source": [
    "![30](http://7xqhfk.com1.z0.glb.clouddn.com/zbml/lec05/0030.jpg)"
   ]
  },
  {
   "cell_type": "markdown",
   "metadata": {},
   "source": [
    "##### 31"
   ]
  },
  {
   "cell_type": "markdown",
   "metadata": {},
   "source": [
    "![31](http://7xqhfk.com1.z0.glb.clouddn.com/zbml/lec05/0031.jpg)"
   ]
  },
  {
   "cell_type": "markdown",
   "metadata": {},
   "source": [
    "##### 32"
   ]
  },
  {
   "cell_type": "markdown",
   "metadata": {},
   "source": [
    "![32](http://7xqhfk.com1.z0.glb.clouddn.com/zbml/lec05/0032.jpg)"
   ]
  },
  {
   "cell_type": "markdown",
   "metadata": {},
   "source": [
    "##### 33"
   ]
  },
  {
   "cell_type": "markdown",
   "metadata": {},
   "source": [
    "![33](http://7xqhfk.com1.z0.glb.clouddn.com/zbml/lec05/0033.jpg)"
   ]
  },
  {
   "cell_type": "markdown",
   "metadata": {},
   "source": [
    "##### 34"
   ]
  },
  {
   "cell_type": "markdown",
   "metadata": {},
   "source": [
    "![34](http://7xqhfk.com1.z0.glb.clouddn.com/zbml/lec05/0034.jpg)"
   ]
  },
  {
   "cell_type": "markdown",
   "metadata": {},
   "source": [
    "##### 35"
   ]
  },
  {
   "cell_type": "markdown",
   "metadata": {},
   "source": [
    "![35](http://7xqhfk.com1.z0.glb.clouddn.com/zbml/lec05/0035.jpg)"
   ]
  },
  {
   "cell_type": "markdown",
   "metadata": {},
   "source": [
    "##### 36"
   ]
  },
  {
   "cell_type": "markdown",
   "metadata": {},
   "source": [
    "![36](http://7xqhfk.com1.z0.glb.clouddn.com/zbml/lec05/0036.jpg)"
   ]
  },
  {
   "cell_type": "markdown",
   "metadata": {},
   "source": [
    "##### 37"
   ]
  },
  {
   "cell_type": "markdown",
   "metadata": {},
   "source": [
    "![37](http://7xqhfk.com1.z0.glb.clouddn.com/zbml/lec05/0037.jpg)"
   ]
  },
  {
   "cell_type": "markdown",
   "metadata": {},
   "source": [
    "##### 38"
   ]
  },
  {
   "cell_type": "markdown",
   "metadata": {},
   "source": [
    "![38](http://7xqhfk.com1.z0.glb.clouddn.com/zbml/lec05/0038.jpg)"
   ]
  },
  {
   "cell_type": "markdown",
   "metadata": {},
   "source": [
    "##### 39"
   ]
  },
  {
   "cell_type": "markdown",
   "metadata": {},
   "source": [
    "![39](http://7xqhfk.com1.z0.glb.clouddn.com/zbml/lec05/0039.jpg)"
   ]
  },
  {
   "cell_type": "markdown",
   "metadata": {},
   "source": [
    "##### 40"
   ]
  },
  {
   "cell_type": "markdown",
   "metadata": {},
   "source": [
    "![40](http://7xqhfk.com1.z0.glb.clouddn.com/zbml/lec05/0040.jpg)"
   ]
  },
  {
   "cell_type": "markdown",
   "metadata": {},
   "source": [
    "##### 41"
   ]
  },
  {
   "cell_type": "markdown",
   "metadata": {},
   "source": [
    "![41](http://7xqhfk.com1.z0.glb.clouddn.com/zbml/lec05/0041.jpg)"
   ]
  },
  {
   "cell_type": "markdown",
   "metadata": {},
   "source": [
    "##### 42"
   ]
  },
  {
   "cell_type": "markdown",
   "metadata": {},
   "source": [
    "![42](http://7xqhfk.com1.z0.glb.clouddn.com/zbml/lec05/0042.jpg)"
   ]
  },
  {
   "cell_type": "markdown",
   "metadata": {},
   "source": [
    "##### 43"
   ]
  },
  {
   "cell_type": "markdown",
   "metadata": {},
   "source": [
    "![43](http://7xqhfk.com1.z0.glb.clouddn.com/zbml/lec05/0043.jpg)"
   ]
  },
  {
   "cell_type": "markdown",
   "metadata": {},
   "source": [
    "##### 44"
   ]
  },
  {
   "cell_type": "markdown",
   "metadata": {},
   "source": [
    "![44](http://7xqhfk.com1.z0.glb.clouddn.com/zbml/lec05/0044.jpg)"
   ]
  },
  {
   "cell_type": "markdown",
   "metadata": {},
   "source": [
    "##### 45"
   ]
  },
  {
   "cell_type": "markdown",
   "metadata": {},
   "source": [
    "![45](http://7xqhfk.com1.z0.glb.clouddn.com/zbml/lec05/0045.jpg)"
   ]
  },
  {
   "cell_type": "markdown",
   "metadata": {},
   "source": [
    "##### 46"
   ]
  },
  {
   "cell_type": "markdown",
   "metadata": {},
   "source": [
    "![46](http://7xqhfk.com1.z0.glb.clouddn.com/zbml/lec05/0046.jpg)"
   ]
  },
  {
   "cell_type": "markdown",
   "metadata": {},
   "source": [
    "##### 47"
   ]
  },
  {
   "cell_type": "markdown",
   "metadata": {},
   "source": [
    "![47](http://7xqhfk.com1.z0.glb.clouddn.com/zbml/lec05/0047.jpg)"
   ]
  },
  {
   "cell_type": "markdown",
   "metadata": {},
   "source": [
    "##### 48"
   ]
  },
  {
   "cell_type": "markdown",
   "metadata": {},
   "source": [
    "![48](http://7xqhfk.com1.z0.glb.clouddn.com/zbml/lec05/0048.jpg)"
   ]
  },
  {
   "cell_type": "markdown",
   "metadata": {},
   "source": [
    "##### 49"
   ]
  },
  {
   "cell_type": "markdown",
   "metadata": {},
   "source": [
    "![49](http://7xqhfk.com1.z0.glb.clouddn.com/zbml/lec05/0049.jpg)"
   ]
  },
  {
   "cell_type": "markdown",
   "metadata": {},
   "source": [
    "##### 50"
   ]
  },
  {
   "cell_type": "markdown",
   "metadata": {},
   "source": [
    "![50](http://7xqhfk.com1.z0.glb.clouddn.com/zbml/lec05/0050.jpg)"
   ]
  },
  {
   "cell_type": "markdown",
   "metadata": {},
   "source": [
    "##### 51"
   ]
  },
  {
   "cell_type": "markdown",
   "metadata": {},
   "source": [
    "![51](http://7xqhfk.com1.z0.glb.clouddn.com/zbml/lec05/0051.jpg)"
   ]
  },
  {
   "cell_type": "markdown",
   "metadata": {},
   "source": [
    "##### 52"
   ]
  },
  {
   "cell_type": "markdown",
   "metadata": {},
   "source": [
    "![52](http://7xqhfk.com1.z0.glb.clouddn.com/zbml/lec05/0052.jpg)"
   ]
  },
  {
   "cell_type": "markdown",
   "metadata": {},
   "source": [
    "##### 53"
   ]
  },
  {
   "cell_type": "markdown",
   "metadata": {},
   "source": [
    "![53](http://7xqhfk.com1.z0.glb.clouddn.com/zbml/lec05/0053.jpg)"
   ]
  },
  {
   "cell_type": "markdown",
   "metadata": {},
   "source": [
    "##### 54"
   ]
  },
  {
   "cell_type": "markdown",
   "metadata": {},
   "source": [
    "![54](http://7xqhfk.com1.z0.glb.clouddn.com/zbml/lec05/0054.jpg)"
   ]
  },
  {
   "cell_type": "markdown",
   "metadata": {},
   "source": [
    "##### 55"
   ]
  },
  {
   "cell_type": "markdown",
   "metadata": {},
   "source": [
    "![55](http://7xqhfk.com1.z0.glb.clouddn.com/zbml/lec05/0055.jpg)"
   ]
  },
  {
   "cell_type": "markdown",
   "metadata": {},
   "source": [
    "##### 56"
   ]
  },
  {
   "cell_type": "markdown",
   "metadata": {},
   "source": [
    "![56](http://7xqhfk.com1.z0.glb.clouddn.com/zbml/lec05/0056.jpg)"
   ]
  },
  {
   "cell_type": "code",
   "execution_count": null,
   "metadata": {
    "collapsed": true
   },
   "outputs": [],
   "source": []
  }
 ],
 "metadata": {
  "kernelspec": {
   "display_name": "Python 2",
   "language": "python",
   "name": "python2"
  },
  "language_info": {
   "codemirror_mode": {
    "name": "ipython",
    "version": 2
   },
   "file_extension": ".py",
   "mimetype": "text/x-python",
   "name": "python",
   "nbconvert_exporter": "python",
   "pygments_lexer": "ipython2",
   "version": "2.7.10"
  }
 },
 "nbformat": 4,
 "nbformat_minor": 0
}
