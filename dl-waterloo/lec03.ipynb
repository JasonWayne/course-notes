{
 "cells": [
  {
   "cell_type": "markdown",
   "metadata": {},
   "source": [
    "##### 1"
   ]
  },
  {
   "cell_type": "markdown",
   "metadata": {},
   "source": [
    "![1](http://7xqhfk.com1.z0.glb.clouddn.com/dl-waterloo/lec03/0001.jpg)"
   ]
  },
  {
   "cell_type": "markdown",
   "metadata": {},
   "source": [
    "##### 2"
   ]
  },
  {
   "cell_type": "markdown",
   "metadata": {},
   "source": [
    "![2](http://7xqhfk.com1.z0.glb.clouddn.com/dl-waterloo/lec03/0002.jpg)"
   ]
  },
  {
   "cell_type": "markdown",
   "metadata": {},
   "source": [
    "##### 3"
   ]
  },
  {
   "cell_type": "markdown",
   "metadata": {},
   "source": [
    "![3](http://7xqhfk.com1.z0.glb.clouddn.com/dl-waterloo/lec03/0003.jpg)"
   ]
  },
  {
   "cell_type": "markdown",
   "metadata": {},
   "source": [
    "##### 4"
   ]
  },
  {
   "cell_type": "markdown",
   "metadata": {},
   "source": [
    "![4](http://7xqhfk.com1.z0.glb.clouddn.com/dl-waterloo/lec03/0004.jpg)"
   ]
  },
  {
   "cell_type": "markdown",
   "metadata": {},
   "source": [
    "and no similarity information included"
   ]
  },
  {
   "cell_type": "markdown",
   "metadata": {},
   "source": [
    "##### 5"
   ]
  },
  {
   "cell_type": "markdown",
   "metadata": {},
   "source": [
    "![5](http://7xqhfk.com1.z0.glb.clouddn.com/dl-waterloo/lec03/0005.jpg)"
   ]
  },
  {
   "cell_type": "markdown",
   "metadata": {},
   "source": [
    "纵向d表示单词数，横向n表示文档数，即$ d = vocab size $\n",
    "\n",
    "左边$U$矩阵的每一行就是每一个单词的K维表示，右边$V^T$矩阵每一列就是每一篇文档的$K$维表示\n",
    "\n",
    "这就是Latent Sementic Index(Analysis)的做法\n",
    "这与PCA的区别就是，这里没有减均值的操作（Centeralize)。\n",
    "\n",
    "为什么不减均值？因为这里矩阵中的每一个数，其实是表示某个词在某篇文章中的出现频次，减去均值，那必然有很多词被表示成了负数，这是没有意义的。\n",
    "\n",
    "教授举了图像的例子。对于图像矩阵做SVD，同样，行是像素点，列是某一个图片，那么，在SVD分解后，U矩阵的每一列单独拿出来，仍然可以看成是某一种图像，如果做了Centeralization，那就什么都不是了。那文本做了SVD之后，对于U的每一列，就相当于是一个Topic，上面的数字表示每一个词在当前这个topic的出现频率；对于V的每一列，则表示每一篇文章，分别由哪几个主题，以什么比例组成。\n",
    "\n",
    "教授补充：对于一个非负矩阵，SVD分解的结果会出现负值。所以现在有了Non negative matrix factorization的方法。\n",
    "\n",
    "这里还有点乱。\n",
    "\n",
    "只有Non negatie matrix factorization之后的结果，才可以看成主题模型那样的理解，因为没有负值；而PCA和SVD都会出现负值，所以不能那样理解。"
   ]
  },
  {
   "cell_type": "markdown",
   "metadata": {},
   "source": [
    "##### 6"
   ]
  },
  {
   "cell_type": "markdown",
   "metadata": {},
   "source": [
    "![6](http://7xqhfk.com1.z0.glb.clouddn.com/dl-waterloo/lec03/0006.jpg)"
   ]
  },
  {
   "cell_type": "markdown",
   "metadata": {},
   "source": [
    "##### 7"
   ]
  },
  {
   "cell_type": "markdown",
   "metadata": {},
   "source": [
    "![7](http://7xqhfk.com1.z0.glb.clouddn.com/dl-waterloo/lec03/0007.jpg)"
   ]
  },
  {
   "cell_type": "markdown",
   "metadata": {},
   "source": [
    "out of sample 就是没出现过的，不在训练集中的"
   ]
  },
  {
   "cell_type": "markdown",
   "metadata": {},
   "source": [
    "##### 8"
   ]
  },
  {
   "cell_type": "markdown",
   "metadata": {},
   "source": [
    "![8](http://7xqhfk.com1.z0.glb.clouddn.com/dl-waterloo/lec03/0008.jpg)"
   ]
  },
  {
   "cell_type": "markdown",
   "metadata": {},
   "source": [
    "##### 9"
   ]
  },
  {
   "cell_type": "markdown",
   "metadata": {},
   "source": [
    "![9](http://7xqhfk.com1.z0.glb.clouddn.com/dl-waterloo/lec03/0009.jpg)"
   ]
  },
  {
   "cell_type": "markdown",
   "metadata": {},
   "source": [
    "##### 10"
   ]
  },
  {
   "cell_type": "markdown",
   "metadata": {},
   "source": [
    "![10](http://7xqhfk.com1.z0.glb.clouddn.com/dl-waterloo/lec03/0010.jpg)"
   ]
  },
  {
   "cell_type": "markdown",
   "metadata": {},
   "source": [
    "##### 11"
   ]
  },
  {
   "cell_type": "markdown",
   "metadata": {},
   "source": [
    "![11](http://7xqhfk.com1.z0.glb.clouddn.com/dl-waterloo/lec03/0011.jpg)"
   ]
  },
  {
   "cell_type": "markdown",
   "metadata": {},
   "source": [
    "Glove directly used, word2vec indirectly used this\n",
    "\n",
    "这里的每一列(或者行，因为是对称的）表示一个词的window"
   ]
  },
  {
   "cell_type": "markdown",
   "metadata": {},
   "source": [
    "##### 12"
   ]
  },
  {
   "cell_type": "markdown",
   "metadata": {},
   "source": [
    "![12](http://7xqhfk.com1.z0.glb.clouddn.com/dl-waterloo/lec03/0012.jpg)"
   ]
  },
  {
   "cell_type": "markdown",
   "metadata": {},
   "source": [
    "##### 13"
   ]
  },
  {
   "cell_type": "markdown",
   "metadata": {},
   "source": [
    "![13](http://7xqhfk.com1.z0.glb.clouddn.com/dl-waterloo/lec03/0013.jpg)"
   ]
  },
  {
   "cell_type": "markdown",
   "metadata": {},
   "source": [
    "##### 14"
   ]
  },
  {
   "cell_type": "markdown",
   "metadata": {},
   "source": [
    "![14](http://7xqhfk.com1.z0.glb.clouddn.com/dl-waterloo/lec03/0014.jpg)"
   ]
  },
  {
   "cell_type": "markdown",
   "metadata": {},
   "source": [
    "这里的length of window表达有歧义，其实是在说input layer只有一个值是1，其它都是零。正常理解的length ＝ 1，是会有两个值为1.\n"
   ]
  },
  {
   "cell_type": "markdown",
   "metadata": {},
   "source": [
    "##### 15"
   ]
  },
  {
   "cell_type": "markdown",
   "metadata": {},
   "source": [
    "![15](http://7xqhfk.com1.z0.glb.clouddn.com/dl-waterloo/lec03/0015.jpg)"
   ]
  },
  {
   "cell_type": "markdown",
   "metadata": {},
   "source": [
    "##### 16"
   ]
  },
  {
   "cell_type": "markdown",
   "metadata": {},
   "source": [
    "![16](http://7xqhfk.com1.z0.glb.clouddn.com/dl-waterloo/lec03/0016.jpg)"
   ]
  },
  {
   "cell_type": "markdown",
   "metadata": {},
   "source": [
    "##### 17"
   ]
  },
  {
   "cell_type": "markdown",
   "metadata": {},
   "source": [
    "![17](http://7xqhfk.com1.z0.glb.clouddn.com/dl-waterloo/lec03/0017.jpg)"
   ]
  },
  {
   "cell_type": "markdown",
   "metadata": {},
   "source": [
    "##### 18"
   ]
  },
  {
   "cell_type": "markdown",
   "metadata": {},
   "source": [
    "![18](http://7xqhfk.com1.z0.glb.clouddn.com/dl-waterloo/lec03/0018.jpg)"
   ]
  },
  {
   "cell_type": "markdown",
   "metadata": {},
   "source": [
    "##### 19"
   ]
  },
  {
   "cell_type": "markdown",
   "metadata": {},
   "source": [
    "![19](http://7xqhfk.com1.z0.glb.clouddn.com/dl-waterloo/lec03/0019.jpg)"
   ]
  },
  {
   "cell_type": "markdown",
   "metadata": {},
   "source": [
    "##### 20"
   ]
  },
  {
   "cell_type": "markdown",
   "metadata": {},
   "source": [
    "![20](http://7xqhfk.com1.z0.glb.clouddn.com/dl-waterloo/lec03/0020.jpg)"
   ]
  },
  {
   "cell_type": "markdown",
   "metadata": {},
   "source": [
    "##### 21"
   ]
  },
  {
   "cell_type": "markdown",
   "metadata": {},
   "source": [
    "![21](http://7xqhfk.com1.z0.glb.clouddn.com/dl-waterloo/lec03/0021.jpg)"
   ]
  },
  {
   "cell_type": "markdown",
   "metadata": {},
   "source": [
    "##### 22"
   ]
  },
  {
   "cell_type": "markdown",
   "metadata": {},
   "source": [
    "![22](http://7xqhfk.com1.z0.glb.clouddn.com/dl-waterloo/lec03/0022.jpg)"
   ]
  },
  {
   "cell_type": "markdown",
   "metadata": {},
   "source": [
    "##### 23"
   ]
  },
  {
   "cell_type": "markdown",
   "metadata": {},
   "source": [
    "![23](http://7xqhfk.com1.z0.glb.clouddn.com/dl-waterloo/lec03/0023.jpg)"
   ]
  },
  {
   "cell_type": "code",
   "execution_count": null,
   "metadata": {
    "collapsed": true
   },
   "outputs": [],
   "source": []
  }
 ],
 "metadata": {
  "kernelspec": {
   "display_name": "Python 2",
   "language": "python",
   "name": "python2"
  },
  "language_info": {
   "codemirror_mode": {
    "name": "ipython",
    "version": 2
   },
   "file_extension": ".py",
   "mimetype": "text/x-python",
   "name": "python",
   "nbconvert_exporter": "python",
   "pygments_lexer": "ipython2",
   "version": "2.7.11"
  }
 },
 "nbformat": 4,
 "nbformat_minor": 0
}
