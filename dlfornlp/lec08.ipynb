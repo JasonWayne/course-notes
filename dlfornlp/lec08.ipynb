{
 "cells": [
  {
   "cell_type": "markdown",
   "metadata": {},
   "source": [
    "##### 1"
   ]
  },
  {
   "cell_type": "markdown",
   "metadata": {},
   "source": [
    "![.jpg](http://7xqhfk.com1.z0.glb.clouddn.com/dlfornlp/lec08/0001.jpg)"
   ]
  },
  {
   "cell_type": "markdown",
   "metadata": {},
   "source": [
    "PPT上写错了，是Lecture 8"
   ]
  },
  {
   "cell_type": "markdown",
   "metadata": {},
   "source": [
    "##### 2"
   ]
  },
  {
   "cell_type": "markdown",
   "metadata": {},
   "source": [
    "![.jpg](http://7xqhfk.com1.z0.glb.clouddn.com/dlfornlp/lec08/0002.jpg)"
   ]
  },
  {
   "cell_type": "markdown",
   "metadata": {},
   "source": [
    "##### 3"
   ]
  },
  {
   "cell_type": "markdown",
   "metadata": {},
   "source": [
    "![.jpg](http://7xqhfk.com1.z0.glb.clouddn.com/dlfornlp/lec08/0003.jpg)"
   ]
  },
  {
   "cell_type": "markdown",
   "metadata": {},
   "source": [
    "##### 4"
   ]
  },
  {
   "cell_type": "markdown",
   "metadata": {},
   "source": [
    "![.jpg](http://7xqhfk.com1.z0.glb.clouddn.com/dlfornlp/lec08/0004.jpg)"
   ]
  },
  {
   "cell_type": "markdown",
   "metadata": {},
   "source": [
    "##### 5"
   ]
  },
  {
   "cell_type": "markdown",
   "metadata": {},
   "source": [
    "![.jpg](http://7xqhfk.com1.z0.glb.clouddn.com/dlfornlp/lec08/0005.jpg)"
   ]
  },
  {
   "cell_type": "markdown",
   "metadata": {},
   "source": [
    "##### 6"
   ]
  },
  {
   "cell_type": "markdown",
   "metadata": {},
   "source": [
    "![.jpg](http://7xqhfk.com1.z0.glb.clouddn.com/dlfornlp/lec08/0006.jpg)"
   ]
  },
  {
   "cell_type": "markdown",
   "metadata": {},
   "source": [
    "##### 7"
   ]
  },
  {
   "cell_type": "markdown",
   "metadata": {},
   "source": [
    "![.jpg](http://7xqhfk.com1.z0.glb.clouddn.com/dlfornlp/lec08/0007.jpg)"
   ]
  },
  {
   "cell_type": "markdown",
   "metadata": {},
   "source": [
    "-  \n",
    "$$  posterior \\propto prior \\times likelihood $$\n",
    "\n",
    "and from [Wikipedia](https://en.wikipedia.org/wiki/Likelihood_function)\n",
    ">In statistics, a **likelihood function** (often simply the **likelihood**) is a function of the parameters of a statistical model.\n",
    "\n",
    ">The likelihood of a set of parameter values, θ, given outcomes x, is equal to the probability of those observed outcomes given those parameter values, that is\n",
    "$$\\mathcal{L}(\\theta |x) = P(x | \\theta).$$\n",
    "The likelihood function is defined differently for discrete and continuous probability distributions.\n",
    "\n",
    "对于这里来说，f就是outcomes x，$p(f|e)$就是likelihood function, $f$就是上式中的$x$，$e$就是上式中的$\\theta$\n",
    "\n",
    "$$L(french|english) = P(english|french)$$\n",
    "\n",
    "\n",
    "- \n",
    "这里，为什么要求p(f|e)而不是直接用p(e|f),也就是说，我拿到了一句法文，为什么不直接去找到它对应的各个英文句子的概率，而是要，通过各个英文转换成这个法文的概率来计算。\n",
    "百度文库的[这篇](http://wenku.baidu.com/link?url=7qBR2ASl2s_RQ3wVqLMFtbavMQE3L30af1UDPgBwLsQH7Moi7FH9iSS4_iW0Yegyu3ZV07YAdHLd1oF57P2-CgcWnweGwHCu7Aei14g-34O)文章是这么说的：\n",
    ">之所以不直接估计P(e|f)，主要有两个原因：(1) 可以将e和f分别看作是疾病和症状，那么从e推出f(P(f|e))比较可行，而很难从f推出e(P(e|f))。(2) 引入P(e)，这样翻译出来的语句更像人话。\n",
    "\n",
    "疾病的例子用来理解Bayes rule本身是非常好的，但来解释这个过于牵强。（疾病用来解释贝叶斯：医生在判断是什么病的时候默认进行了贝叶斯公式的转换，转换成了likelihood（感冒会导致发烧的概率） * prior（感冒的概率）。第二个理由比较认同。这里的目标p(english|french)是要完成一句话的转换，都是解剖成每个单词（或是短语）的概率p(french|english)，因此，language model(p(e))就很有用了，可以保证说的话符合目标语言的习惯。\n",
    "\n",
    "举个中文的例子，“这是好的”翻译成\"This is great\"和\"Here is well\"\n"
   ]
  },
  {
   "cell_type": "markdown",
   "metadata": {},
   "source": [
    "##### 8"
   ]
  },
  {
   "cell_type": "markdown",
   "metadata": {},
   "source": [
    "![.jpg](http://7xqhfk.com1.z0.glb.clouddn.com/dlfornlp/lec08/0008.jpg)"
   ]
  },
  {
   "cell_type": "markdown",
   "metadata": {},
   "source": [
    "##### 9"
   ]
  },
  {
   "cell_type": "markdown",
   "metadata": {},
   "source": [
    "![.jpg](http://7xqhfk.com1.z0.glb.clouddn.com/dlfornlp/lec08/0009.jpg)"
   ]
  },
  {
   "cell_type": "markdown",
   "metadata": {},
   "source": [
    "##### 10"
   ]
  },
  {
   "cell_type": "markdown",
   "metadata": {},
   "source": [
    "![.jpg](http://7xqhfk.com1.z0.glb.clouddn.com/dlfornlp/lec08/0010.jpg)"
   ]
  },
  {
   "cell_type": "markdown",
   "metadata": {},
   "source": [
    "##### 11"
   ]
  },
  {
   "cell_type": "markdown",
   "metadata": {},
   "source": [
    "![.jpg](http://7xqhfk.com1.z0.glb.clouddn.com/dlfornlp/lec08/0011.jpg)"
   ]
  },
  {
   "cell_type": "markdown",
   "metadata": {},
   "source": [
    "##### 12"
   ]
  },
  {
   "cell_type": "markdown",
   "metadata": {},
   "source": [
    "![.jpg](http://7xqhfk.com1.z0.glb.clouddn.com/dlfornlp/lec08/0012.jpg)"
   ]
  },
  {
   "cell_type": "markdown",
   "metadata": {},
   "source": [
    "##### 13"
   ]
  },
  {
   "cell_type": "markdown",
   "metadata": {},
   "source": [
    "![.jpg](http://7xqhfk.com1.z0.glb.clouddn.com/dlfornlp/lec08/0013.jpg)"
   ]
  },
  {
   "cell_type": "markdown",
   "metadata": {},
   "source": [
    "##### 14"
   ]
  },
  {
   "cell_type": "markdown",
   "metadata": {},
   "source": [
    "![.jpg](http://7xqhfk.com1.z0.glb.clouddn.com/dlfornlp/lec08/0014.jpg)"
   ]
  },
  {
   "cell_type": "markdown",
   "metadata": {},
   "source": [
    "##### 15"
   ]
  },
  {
   "cell_type": "markdown",
   "metadata": {},
   "source": [
    "![.jpg](http://7xqhfk.com1.z0.glb.clouddn.com/dlfornlp/lec08/0015.jpg)"
   ]
  },
  {
   "cell_type": "markdown",
   "metadata": {},
   "source": [
    "##### 16"
   ]
  },
  {
   "cell_type": "markdown",
   "metadata": {},
   "source": [
    "![.jpg](http://7xqhfk.com1.z0.glb.clouddn.com/dlfornlp/lec08/0016.jpg)"
   ]
  },
  {
   "cell_type": "markdown",
   "metadata": {},
   "source": [
    "##### 17"
   ]
  },
  {
   "cell_type": "markdown",
   "metadata": {},
   "source": [
    "![.jpg](http://7xqhfk.com1.z0.glb.clouddn.com/dlfornlp/lec08/0017.jpg)"
   ]
  },
  {
   "cell_type": "markdown",
   "metadata": {},
   "source": [
    "##### 18"
   ]
  },
  {
   "cell_type": "markdown",
   "metadata": {},
   "source": [
    "![.jpg](http://7xqhfk.com1.z0.glb.clouddn.com/dlfornlp/lec08/0018.jpg)"
   ]
  },
  {
   "cell_type": "markdown",
   "metadata": {},
   "source": [
    "##### 19"
   ]
  },
  {
   "cell_type": "markdown",
   "metadata": {},
   "source": [
    "![.jpg](http://7xqhfk.com1.z0.glb.clouddn.com/dlfornlp/lec08/0019.jpg)"
   ]
  },
  {
   "cell_type": "markdown",
   "metadata": {},
   "source": [
    "##### 20"
   ]
  },
  {
   "cell_type": "markdown",
   "metadata": {},
   "source": [
    "![.jpg](http://7xqhfk.com1.z0.glb.clouddn.com/dlfornlp/lec08/0020.jpg)"
   ]
  },
  {
   "cell_type": "markdown",
   "metadata": {},
   "source": [
    "##### 21"
   ]
  },
  {
   "cell_type": "markdown",
   "metadata": {},
   "source": [
    "![.jpg](http://7xqhfk.com1.z0.glb.clouddn.com/dlfornlp/lec08/0021.jpg)"
   ]
  },
  {
   "cell_type": "markdown",
   "metadata": {},
   "source": [
    "##### 22"
   ]
  },
  {
   "cell_type": "markdown",
   "metadata": {},
   "source": [
    "![.jpg](http://7xqhfk.com1.z0.glb.clouddn.com/dlfornlp/lec08/0022.jpg)"
   ]
  },
  {
   "cell_type": "markdown",
   "metadata": {},
   "source": [
    "##### 23"
   ]
  },
  {
   "cell_type": "markdown",
   "metadata": {},
   "source": [
    "![.jpg](http://7xqhfk.com1.z0.glb.clouddn.com/dlfornlp/lec08/0023.jpg)"
   ]
  },
  {
   "cell_type": "markdown",
   "metadata": {},
   "source": [
    "##### 24"
   ]
  },
  {
   "cell_type": "markdown",
   "metadata": {},
   "source": [
    "![.jpg](http://7xqhfk.com1.z0.glb.clouddn.com/dlfornlp/lec08/0024.jpg)"
   ]
  },
  {
   "cell_type": "markdown",
   "metadata": {},
   "source": [
    "##### 25"
   ]
  },
  {
   "cell_type": "markdown",
   "metadata": {},
   "source": [
    "![.jpg](http://7xqhfk.com1.z0.glb.clouddn.com/dlfornlp/lec08/0025.jpg)"
   ]
  },
  {
   "cell_type": "markdown",
   "metadata": {},
   "source": [
    "##### 26"
   ]
  },
  {
   "cell_type": "markdown",
   "metadata": {},
   "source": [
    "![.jpg](http://7xqhfk.com1.z0.glb.clouddn.com/dlfornlp/lec08/0026.jpg)"
   ]
  },
  {
   "cell_type": "markdown",
   "metadata": {},
   "source": [
    "##### 27"
   ]
  },
  {
   "cell_type": "markdown",
   "metadata": {},
   "source": [
    "![.jpg](http://7xqhfk.com1.z0.glb.clouddn.com/dlfornlp/lec08/0027.jpg)"
   ]
  },
  {
   "cell_type": "markdown",
   "metadata": {},
   "source": [
    "##### 28"
   ]
  },
  {
   "cell_type": "markdown",
   "metadata": {},
   "source": [
    "![.jpg](http://7xqhfk.com1.z0.glb.clouddn.com/dlfornlp/lec08/0028.jpg)"
   ]
  },
  {
   "cell_type": "markdown",
   "metadata": {},
   "source": [
    "##### 29"
   ]
  },
  {
   "cell_type": "markdown",
   "metadata": {},
   "source": [
    "![.jpg](http://7xqhfk.com1.z0.glb.clouddn.com/dlfornlp/lec08/0029.jpg)"
   ]
  },
  {
   "cell_type": "markdown",
   "metadata": {},
   "source": [
    "##### 30"
   ]
  },
  {
   "cell_type": "markdown",
   "metadata": {},
   "source": [
    "![.jpg](http://7xqhfk.com1.z0.glb.clouddn.com/dlfornlp/lec08/0030.jpg)"
   ]
  },
  {
   "cell_type": "markdown",
   "metadata": {},
   "source": [
    "##### 31"
   ]
  },
  {
   "cell_type": "markdown",
   "metadata": {},
   "source": [
    "![.jpg](http://7xqhfk.com1.z0.glb.clouddn.com/dlfornlp/lec08/0031.jpg)"
   ]
  },
  {
   "cell_type": "markdown",
   "metadata": {},
   "source": [
    "##### 32"
   ]
  },
  {
   "cell_type": "markdown",
   "metadata": {},
   "source": [
    "![.jpg](http://7xqhfk.com1.z0.glb.clouddn.com/dlfornlp/lec08/0032.jpg)"
   ]
  },
  {
   "cell_type": "markdown",
   "metadata": {},
   "source": [
    "##### 33"
   ]
  },
  {
   "cell_type": "markdown",
   "metadata": {},
   "source": [
    "![.jpg](http://7xqhfk.com1.z0.glb.clouddn.com/dlfornlp/lec08/0033.jpg)"
   ]
  },
  {
   "cell_type": "markdown",
   "metadata": {},
   "source": [
    "##### 34"
   ]
  },
  {
   "cell_type": "markdown",
   "metadata": {},
   "source": [
    "![.jpg](http://7xqhfk.com1.z0.glb.clouddn.com/dlfornlp/lec08/0034.jpg)"
   ]
  },
  {
   "cell_type": "code",
   "execution_count": null,
   "metadata": {
    "collapsed": true
   },
   "outputs": [],
   "source": []
  }
 ],
 "metadata": {
  "kernelspec": {
   "display_name": "Python 2",
   "language": "python",
   "name": "python2"
  },
  "language_info": {
   "codemirror_mode": {
    "name": "ipython",
    "version": 2
   },
   "file_extension": ".py",
   "mimetype": "text/x-python",
   "name": "python",
   "nbconvert_exporter": "python",
   "pygments_lexer": "ipython2",
   "version": "2.7.10"
  }
 },
 "nbformat": 4,
 "nbformat_minor": 0
}
