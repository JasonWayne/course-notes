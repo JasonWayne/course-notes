{
 "cells": [
  {
   "cell_type": "markdown",
   "metadata": {},
   "source": [
    "![.jpg](http://7xqhfk.com1.z0.glb.clouddn.com/dlfornlp%2Flec01%2F0001.jpg)"
   ]
  },
  {
   "cell_type": "markdown",
   "metadata": {},
   "source": [
    "![.jpg](http://7xqhfk.com1.z0.glb.clouddn.com/dlfornlp%2Flec01%2F0002.jpg)"
   ]
  },
  {
   "cell_type": "markdown",
   "metadata": {},
   "source": [
    "![.jpg](http://7xqhfk.com1.z0.glb.clouddn.com/dlfornlp%2Flec01%2F0003.jpg)"
   ]
  },
  {
   "cell_type": "markdown",
   "metadata": {},
   "source": [
    "![.jpg](http://7xqhfk.com1.z0.glb.clouddn.com/dlfornlp%2Flec01%2F0004.jpg)"
   ]
  },
  {
   "cell_type": "markdown",
   "metadata": {},
   "source": [
    "![.jpg](http://7xqhfk.com1.z0.glb.clouddn.com/dlfornlp%2Flec01%2F0005.jpg)"
   ]
  },
  {
   "cell_type": "markdown",
   "metadata": {},
   "source": [
    "![.jpg](http://7xqhfk.com1.z0.glb.clouddn.com/dlfornlp%2Flec01%2F0006.jpg)"
   ]
  },
  {
   "cell_type": "markdown",
   "metadata": {},
   "source": [
    "![.jpg](http://7xqhfk.com1.z0.glb.clouddn.com/dlfornlp%2Flec01%2F0007.jpg)"
   ]
  },
  {
   "cell_type": "markdown",
   "metadata": {},
   "source": [
    "![.jpg](http://7xqhfk.com1.z0.glb.clouddn.com/dlfornlp%2Flec01%2F0008.jpg)"
   ]
  },
  {
   "cell_type": "markdown",
   "metadata": {},
   "source": [
    "![.jpg](http://7xqhfk.com1.z0.glb.clouddn.com/dlfornlp%2Flec01%2F0009.jpg)"
   ]
  },
  {
   "cell_type": "markdown",
   "metadata": {},
   "source": [
    "![.jpg](http://7xqhfk.com1.z0.glb.clouddn.com/dlfornlp%2Flec01%2F0010.jpg)"
   ]
  },
  {
   "cell_type": "markdown",
   "metadata": {},
   "source": [
    "![.jpg](http://7xqhfk.com1.z0.glb.clouddn.com/dlfornlp%2Flec01%2F0011.jpg)"
   ]
  },
  {
   "cell_type": "markdown",
   "metadata": {},
   "source": [
    "![.jpg](http://7xqhfk.com1.z0.glb.clouddn.com/dlfornlp%2Flec01%2F0012.jpg)"
   ]
  },
  {
   "cell_type": "markdown",
   "metadata": {},
   "source": [
    "![.jpg](http://7xqhfk.com1.z0.glb.clouddn.com/dlfornlp%2Flec01%2F0013.jpg)"
   ]
  },
  {
   "cell_type": "markdown",
   "metadata": {},
   "source": [
    "![.jpg](http://7xqhfk.com1.z0.glb.clouddn.com/dlfornlp%2Flec01%2F0014.jpg)"
   ]
  },
  {
   "cell_type": "markdown",
   "metadata": {},
   "source": [
    "![.jpg](http://7xqhfk.com1.z0.glb.clouddn.com/dlfornlp%2Flec01%2F0015.jpg)"
   ]
  },
  {
   "cell_type": "markdown",
   "metadata": {},
   "source": [
    "![.jpg](http://7xqhfk.com1.z0.glb.clouddn.com/dlfornlp%2Flec01%2F0016.jpg)"
   ]
  },
  {
   "cell_type": "markdown",
   "metadata": {},
   "source": [
    "![.jpg](http://7xqhfk.com1.z0.glb.clouddn.com/dlfornlp%2Flec01%2F0017.jpg)"
   ]
  },
  {
   "cell_type": "markdown",
   "metadata": {},
   "source": [
    "![.jpg](http://7xqhfk.com1.z0.glb.clouddn.com/dlfornlp%2Flec01%2F0018.jpg)"
   ]
  },
  {
   "cell_type": "markdown",
   "metadata": {},
   "source": [
    "![.jpg](http://7xqhfk.com1.z0.glb.clouddn.com/dlfornlp%2Flec01%2F0019.jpg)"
   ]
  },
  {
   "cell_type": "markdown",
   "metadata": {},
   "source": [
    "![.jpg](http://7xqhfk.com1.z0.glb.clouddn.com/dlfornlp%2Flec01%2F0020.jpg)"
   ]
  },
  {
   "cell_type": "markdown",
   "metadata": {},
   "source": [
    "![.jpg](http://7xqhfk.com1.z0.glb.clouddn.com/dlfornlp%2Flec01%2F0021.jpg)"
   ]
  },
  {
   "cell_type": "markdown",
   "metadata": {},
   "source": [
    "![.jpg](http://7xqhfk.com1.z0.glb.clouddn.com/dlfornlp%2Flec01%2F0022.jpg)"
   ]
  },
  {
   "cell_type": "markdown",
   "metadata": {},
   "source": [
    "![.jpg](http://7xqhfk.com1.z0.glb.clouddn.com/dlfornlp%2Flec01%2F0023.jpg)"
   ]
  },
  {
   "cell_type": "markdown",
   "metadata": {},
   "source": [
    "![.jpg](http://7xqhfk.com1.z0.glb.clouddn.com/dlfornlp%2Flec01%2F0024.jpg)"
   ]
  },
  {
   "cell_type": "markdown",
   "metadata": {},
   "source": [
    "![.jpg](http://7xqhfk.com1.z0.glb.clouddn.com/dlfornlp%2Flec01%2F0025.jpg)"
   ]
  },
  {
   "cell_type": "markdown",
   "metadata": {},
   "source": [
    "![.jpg](http://7xqhfk.com1.z0.glb.clouddn.com/dlfornlp%2Flec01%2F0026.jpg)"
   ]
  },
  {
   "cell_type": "markdown",
   "metadata": {},
   "source": [
    "![.jpg](http://7xqhfk.com1.z0.glb.clouddn.com/dlfornlp%2Flec01%2F0027.jpg)"
   ]
  },
  {
   "cell_type": "markdown",
   "metadata": {},
   "source": [
    "![.jpg](http://7xqhfk.com1.z0.glb.clouddn.com/dlfornlp%2Flec01%2F0028.jpg)"
   ]
  },
  {
   "cell_type": "markdown",
   "metadata": {},
   "source": [
    "![.jpg](http://7xqhfk.com1.z0.glb.clouddn.com/dlfornlp%2Flec01%2F0029.jpg)"
   ]
  },
  {
   "cell_type": "markdown",
   "metadata": {},
   "source": [
    "![.jpg](http://7xqhfk.com1.z0.glb.clouddn.com/dlfornlp%2Flec01%2F0030.jpg)"
   ]
  },
  {
   "cell_type": "markdown",
   "metadata": {},
   "source": [
    "![.jpg](http://7xqhfk.com1.z0.glb.clouddn.com/dlfornlp%2Flec01%2F0031.jpg)"
   ]
  },
  {
   "cell_type": "markdown",
   "metadata": {},
   "source": [
    "![.jpg](http://7xqhfk.com1.z0.glb.clouddn.com/dlfornlp%2Flec01%2F0032.jpg)"
   ]
  },
  {
   "cell_type": "markdown",
   "metadata": {},
   "source": [
    "![.jpg](http://7xqhfk.com1.z0.glb.clouddn.com/dlfornlp%2Flec01%2F0033.jpg)"
   ]
  },
  {
   "cell_type": "markdown",
   "metadata": {},
   "source": [
    "![.jpg](http://7xqhfk.com1.z0.glb.clouddn.com/dlfornlp%2Flec01%2F0034.jpg)"
   ]
  },
  {
   "cell_type": "code",
   "execution_count": null,
   "metadata": {
    "collapsed": true
   },
   "outputs": [],
   "source": []
  }
 ],
 "metadata": {
  "kernelspec": {
   "display_name": "Python 2",
   "language": "python",
   "name": "python2"
  },
  "language_info": {
   "codemirror_mode": {
    "name": "ipython",
    "version": 2
   },
   "file_extension": ".py",
   "mimetype": "text/x-python",
   "name": "python",
   "nbconvert_exporter": "python",
   "pygments_lexer": "ipython2",
   "version": "2.7.10"
  }
 },
 "nbformat": 4,
 "nbformat_minor": 0
}
