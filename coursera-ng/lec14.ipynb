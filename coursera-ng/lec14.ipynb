{
 "cells": [
  {
   "cell_type": "markdown",
   "metadata": {},
   "source": [
    "##### 1"
   ]
  },
  {
   "cell_type": "markdown",
   "metadata": {},
   "source": [
    "![1](http://7xqhfk.com1.z0.glb.clouddn.com/coursera-ng/lec14/0001.jpg)"
   ]
  },
  {
   "cell_type": "markdown",
   "metadata": {},
   "source": [
    "##### 2"
   ]
  },
  {
   "cell_type": "markdown",
   "metadata": {},
   "source": [
    "![2](http://7xqhfk.com1.z0.glb.clouddn.com/coursera-ng/lec14/0002.jpg)"
   ]
  },
  {
   "cell_type": "markdown",
   "metadata": {},
   "source": [
    "没有完全在一条直线上是因为round-off error "
   ]
  },
  {
   "cell_type": "markdown",
   "metadata": {},
   "source": [
    "##### 3"
   ]
  },
  {
   "cell_type": "markdown",
   "metadata": {},
   "source": [
    "![3](http://7xqhfk.com1.z0.glb.clouddn.com/coursera-ng/lec14/0003.jpg)"
   ]
  },
  {
   "cell_type": "markdown",
   "metadata": {},
   "source": [
    "##### 4"
   ]
  },
  {
   "cell_type": "markdown",
   "metadata": {},
   "source": [
    "![4](http://7xqhfk.com1.z0.glb.clouddn.com/coursera-ng/lec14/0004.jpg)"
   ]
  },
  {
   "cell_type": "markdown",
   "metadata": {},
   "source": [
    "##### 5"
   ]
  },
  {
   "cell_type": "markdown",
   "metadata": {},
   "source": [
    "![5](http://7xqhfk.com1.z0.glb.clouddn.com/coursera-ng/lec14/0005.jpg)"
   ]
  },
  {
   "cell_type": "markdown",
   "metadata": {},
   "source": [
    "##### 6"
   ]
  },
  {
   "cell_type": "markdown",
   "metadata": {},
   "source": [
    "![6](http://7xqhfk.com1.z0.glb.clouddn.com/coursera-ng/lec14/0006.jpg)"
   ]
  },
  {
   "cell_type": "markdown",
   "metadata": {},
   "source": [
    "##### 7"
   ]
  },
  {
   "cell_type": "markdown",
   "metadata": {},
   "source": [
    "![7](http://7xqhfk.com1.z0.glb.clouddn.com/coursera-ng/lec14/0007.jpg)"
   ]
  },
  {
   "cell_type": "markdown",
   "metadata": {},
   "source": [
    "##### 8"
   ]
  },
  {
   "cell_type": "markdown",
   "metadata": {},
   "source": [
    "![8](http://7xqhfk.com1.z0.glb.clouddn.com/coursera-ng/lec14/0008.jpg)"
   ]
  },
  {
   "cell_type": "markdown",
   "metadata": {},
   "source": [
    "##### 9"
   ]
  },
  {
   "cell_type": "markdown",
   "metadata": {},
   "source": [
    "![9](http://7xqhfk.com1.z0.glb.clouddn.com/coursera-ng/lec14/0009.jpg)"
   ]
  },
  {
   "cell_type": "markdown",
   "metadata": {},
   "source": [
    "##### 10"
   ]
  },
  {
   "cell_type": "markdown",
   "metadata": {},
   "source": [
    "![10](http://7xqhfk.com1.z0.glb.clouddn.com/coursera-ng/lec14/0010.jpg)"
   ]
  },
  {
   "cell_type": "markdown",
   "metadata": {},
   "source": [
    "Ng说PCA是找一条线（就是找一个维度），使原始点到这条线的的距离最短，他把它叫做Projection Error。按PCA一般的理解是说要找到一条线，使在这条线的方差最大（每一个点投影到线上，都会又一个对应的点，也就是有一个在新维度上的取值，该维度就是一个随机变量，要使这个随机变量的方差最大）。两者是同一个意思。因为假设原来的点为$x$，投影到线上是$x'$，投影的距离为$d$，x'到$0$点的距离（就是$z$在新坐标轴上的取值）为$z$，$x$到$0$点的距离为$s$，那么有$ s ^ 2 = d ^ 2 + z ^ 2 $。所以，方差最大，就是要让Projection Error最小。前面说的是降维到1维的场景。如果降维到k维，那对应的就是在这个k维向量的协方差矩阵的"
   ]
  },
  {
   "cell_type": "markdown",
   "metadata": {},
   "source": [
    "##### 11"
   ]
  },
  {
   "cell_type": "markdown",
   "metadata": {},
   "source": [
    "![11](http://7xqhfk.com1.z0.glb.clouddn.com/coursera-ng/lec14/0011.jpg)"
   ]
  },
  {
   "cell_type": "markdown",
   "metadata": {},
   "source": [
    "##### 12"
   ]
  },
  {
   "cell_type": "markdown",
   "metadata": {},
   "source": [
    "![12](http://7xqhfk.com1.z0.glb.clouddn.com/coursera-ng/lec14/0012.jpg)"
   ]
  },
  {
   "cell_type": "markdown",
   "metadata": {},
   "source": [
    "不同点：\n",
    "1. 如图中画的，算的不是同一个距离值；\n",
    "2. 线性回归是有一个`y`值，而pca中每一个维度都是等价的，没有一个特殊的维度作为`y`"
   ]
  },
  {
   "cell_type": "markdown",
   "metadata": {},
   "source": [
    "##### 13"
   ]
  },
  {
   "cell_type": "markdown",
   "metadata": {},
   "source": [
    "![13](http://7xqhfk.com1.z0.glb.clouddn.com/coursera-ng/lec14/0013.jpg)"
   ]
  },
  {
   "cell_type": "markdown",
   "metadata": {},
   "source": [
    "##### 14"
   ]
  },
  {
   "cell_type": "markdown",
   "metadata": {},
   "source": [
    "![14](http://7xqhfk.com1.z0.glb.clouddn.com/coursera-ng/lec14/0014.jpg)"
   ]
  },
  {
   "cell_type": "markdown",
   "metadata": {},
   "source": [
    "##### 15"
   ]
  },
  {
   "cell_type": "markdown",
   "metadata": {},
   "source": [
    "![15](http://7xqhfk.com1.z0.glb.clouddn.com/coursera-ng/lec14/0015.jpg)"
   ]
  },
  {
   "cell_type": "markdown",
   "metadata": {},
   "source": [
    "mean normalization 就是使随机变量均值为0\n",
    "feature scaling 就是把值缩放进行缩放。\n",
    "图中的$s_j$可以是standard deviation，也可以是maximum value。"
   ]
  },
  {
   "cell_type": "markdown",
   "metadata": {},
   "source": [
    "##### 16"
   ]
  },
  {
   "cell_type": "markdown",
   "metadata": {},
   "source": [
    "![16](http://7xqhfk.com1.z0.glb.clouddn.com/coursera-ng/lec14/0016.jpg)"
   ]
  },
  {
   "cell_type": "markdown",
   "metadata": {},
   "source": [
    "##### 17"
   ]
  },
  {
   "cell_type": "markdown",
   "metadata": {},
   "source": [
    "![17](http://7xqhfk.com1.z0.glb.clouddn.com/coursera-ng/lec14/0017.jpg)"
   ]
  },
  {
   "cell_type": "markdown",
   "metadata": {},
   "source": [
    "在mean normalization之后的协方差矩阵，可以用这种方式计算。标准的公式中的分母应该是$m-1$。可见<https://en.wikipedia.org/wiki/Covariance>，calculating sample covariance。\n",
    "\n",
    "这里用SVD，也是为了求特征值和特征向量，Ng说用`eig()`函数其实也可以，但是SVD更numerically stable。但在这里，两者会给出相同的结果（也就是svd没有前面说的stable优势），因为协方差矩阵一定是对称半正定矩阵(positive semi-definite)。"
   ]
  },
  {
   "cell_type": "markdown",
   "metadata": {},
   "source": [
    "##### 18"
   ]
  },
  {
   "cell_type": "markdown",
   "metadata": {},
   "source": [
    "![18](http://7xqhfk.com1.z0.glb.clouddn.com/coursera-ng/lec14/0018.jpg)"
   ]
  },
  {
   "cell_type": "markdown",
   "metadata": {},
   "source": [
    "##### 19"
   ]
  },
  {
   "cell_type": "markdown",
   "metadata": {},
   "source": [
    "![19](http://7xqhfk.com1.z0.glb.clouddn.com/coursera-ng/lec14/0019.jpg)"
   ]
  },
  {
   "cell_type": "markdown",
   "metadata": {},
   "source": [
    "m个样本，每个是n维，那么$x^{(i)}$是`n * 1`的向量，$X$是`m * n`的矩阵。"
   ]
  },
  {
   "cell_type": "markdown",
   "metadata": {},
   "source": [
    "![这里写图片描述](http://img.blog.csdn.net/20151229093130877)"
   ]
  },
  {
   "cell_type": "markdown",
   "metadata": {},
   "source": [
    "##### 20"
   ]
  },
  {
   "cell_type": "markdown",
   "metadata": {},
   "source": [
    "![20](http://7xqhfk.com1.z0.glb.clouddn.com/coursera-ng/lec14/0020.jpg)"
   ]
  },
  {
   "cell_type": "markdown",
   "metadata": {},
   "source": [
    "##### 21"
   ]
  },
  {
   "cell_type": "markdown",
   "metadata": {},
   "source": [
    "![21](http://7xqhfk.com1.z0.glb.clouddn.com/coursera-ng/lec14/0021.jpg)"
   ]
  },
  {
   "cell_type": "markdown",
   "metadata": {},
   "source": [
    "![这里写图片描述](http://img.blog.csdn.net/20151229211345756)"
   ]
  },
  {
   "cell_type": "markdown",
   "metadata": {},
   "source": [
    "##### 22"
   ]
  },
  {
   "cell_type": "markdown",
   "metadata": {},
   "source": [
    "![22](http://7xqhfk.com1.z0.glb.clouddn.com/coursera-ng/lec14/0022.jpg)"
   ]
  },
  {
   "cell_type": "markdown",
   "metadata": {},
   "source": [
    "pca中保留下来的k维，就是principal components"
   ]
  },
  {
   "cell_type": "markdown",
   "metadata": {},
   "source": [
    "##### 23"
   ]
  },
  {
   "cell_type": "markdown",
   "metadata": {},
   "source": [
    "![23](http://7xqhfk.com1.z0.glb.clouddn.com/coursera-ng/lec14/0023.jpg)"
   ]
  },
  {
   "cell_type": "markdown",
   "metadata": {},
   "source": [
    "![这里写图片描述](http://img.blog.csdn.net/20151229095508341)"
   ]
  },
  {
   "cell_type": "markdown",
   "metadata": {},
   "source": [
    "##### 24"
   ]
  },
  {
   "cell_type": "markdown",
   "metadata": {},
   "source": [
    "![24](http://7xqhfk.com1.z0.glb.clouddn.com/coursera-ng/lec14/0024.jpg)"
   ]
  },
  {
   "cell_type": "markdown",
   "metadata": {},
   "source": [
    "##### 25"
   ]
  },
  {
   "cell_type": "markdown",
   "metadata": {},
   "source": [
    "![25](http://7xqhfk.com1.z0.glb.clouddn.com/coursera-ng/lec14/0025.jpg)"
   ]
  },
  {
   "cell_type": "markdown",
   "metadata": {},
   "source": [
    "![这里写图片描述](http://img.blog.csdn.net/20151229100542716)\n",
    "还是对应前面那张黑板的图。"
   ]
  },
  {
   "cell_type": "markdown",
   "metadata": {},
   "source": [
    "##### 26"
   ]
  },
  {
   "cell_type": "markdown",
   "metadata": {},
   "source": [
    "![26](http://7xqhfk.com1.z0.glb.clouddn.com/coursera-ng/lec14/0026.jpg)"
   ]
  },
  {
   "cell_type": "markdown",
   "metadata": {},
   "source": [
    "##### 27"
   ]
  },
  {
   "cell_type": "markdown",
   "metadata": {},
   "source": [
    "![27](http://7xqhfk.com1.z0.glb.clouddn.com/coursera-ng/lec14/0027.jpg)"
   ]
  },
  {
   "cell_type": "markdown",
   "metadata": {},
   "source": [
    "TODO：\n",
    "pca都是拿整个矩阵在做转换，我随便拿一个样本，能单独转换吗？可以去看一下scikit－learn。"
   ]
  },
  {
   "cell_type": "markdown",
   "metadata": {},
   "source": [
    "##### 28"
   ]
  },
  {
   "cell_type": "markdown",
   "metadata": {},
   "source": [
    "![28](http://7xqhfk.com1.z0.glb.clouddn.com/coursera-ng/lec14/0028.jpg)"
   ]
  },
  {
   "cell_type": "markdown",
   "metadata": {},
   "source": [
    "##### 29"
   ]
  },
  {
   "cell_type": "markdown",
   "metadata": {},
   "source": [
    "![29](http://7xqhfk.com1.z0.glb.clouddn.com/coursera-ng/lec14/0029.jpg)"
   ]
  },
  {
   "cell_type": "markdown",
   "metadata": {},
   "source": [
    "因为pca是无监督的，没有用到y的信息。"
   ]
  },
  {
   "cell_type": "markdown",
   "metadata": {},
   "source": [
    "##### 30"
   ]
  },
  {
   "cell_type": "markdown",
   "metadata": {},
   "source": [
    "![30](http://7xqhfk.com1.z0.glb.clouddn.com/coursera-ng/lec14/0030.jpg)"
   ]
  },
  {
   "cell_type": "code",
   "execution_count": null,
   "metadata": {
    "collapsed": true
   },
   "outputs": [],
   "source": []
  }
 ],
 "metadata": {
  "kernelspec": {
   "display_name": "Python 2",
   "language": "python",
   "name": "python2"
  },
  "language_info": {
   "codemirror_mode": {
    "name": "ipython",
    "version": 2
   },
   "file_extension": ".py",
   "mimetype": "text/x-python",
   "name": "python",
   "nbconvert_exporter": "python",
   "pygments_lexer": "ipython2",
   "version": "2.7.10"
  }
 },
 "nbformat": 4,
 "nbformat_minor": 0
}
